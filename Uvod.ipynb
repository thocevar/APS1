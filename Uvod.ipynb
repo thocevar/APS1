{
 "cells": [
  {
   "cell_type": "markdown",
   "id": "7dde687f-aca4-4d05-afb8-225e20c31048",
   "metadata": {},
   "source": [
    "# Algoritmi in podatkovne strukture 1\n",
    "\n",
    "Namen predmeta APS1 je naučiti udeležence *algoritmičnega razmišljanja*. Ukvarjali se bomo s *pravilnostjo* in *učinkovitostjo* algoritmov. Spoznali bomo več osnovnih algoritmov in z njimi povezanih podatkovnih struktur, ki bodo predstavljali našo osnovno orodjarno. Poleg tega bodo služili kot primeri, na katerih se bomo učili načrtovanja ter analiziranja algoritmov in podatkovnih struktur. S konkretnimi implementacijami zasnovanih idej pa bomo utrjevali in poglabljali znanje programiranja.\n",
    "\n",
    "**Algoritem** - Postopek za reševanje določenega problema, ki ga reši v končnem številu korakov in je nedvoumno opisan s končnim številom ukazov, izvedljivih mehanično brez rabe uma in običajno podanih v obliki psevdokode, diagrama poteka ali v nekem programskem jeziku. \n",
    "\n",
    "Primeri: iskanje največjega elementa v seznamu, Evklidov algoritem, Kruskalov algoritem, ...\n",
    "\n",
    "Včasih med algoritme štejemo tudi nekoliko bolj dvoumne postopke opisane v naravnem jeziku, kot so npr. recepti, razni birokratski postopi (npr. postopek za prijavo začasnega prebivališča) itd.\n",
    "\n",
    "**Podatkovna struktura** - Način organizacije podatkov, ki omogoča učinkovito izvajanje operacij na njih. \n",
    "\n",
    "Primeri: seznam, množica, uravnoteženo iskalno drevo, ...\n",
    "\n",
    "Algoritmi in podatkovne strukture se močno prepletajo. Algoritmi (postopki) v svojih korakih potrebujejo učinkovito organizirane podatke (podatkovne strukture). In obratno. Podatkovne strukture potrebujejo določene postopke (algoritme), da vzdržujejo podatke organizirane in omogočajo učinkovite operacije. Glede na delež enega ali drugega, govorimo o algoritmu ali podatkovni strukturi."
   ]
  },
  {
   "cell_type": "markdown",
   "id": "64872ce4-3b72-44a3-bd72-2f3cdd1d3ba6",
   "metadata": {},
   "source": [
    "## Izvajanje predmeta\n",
    "\n",
    "Predmet se izvaja v tedenskih sklopih s predavanji, ki jim sledijo vaje. Na predavanjih so bomo ogledali teorijo in kakšen praktičen primer rešili tudi skupaj. Na vajah boste vsak teden samostojno (ob pomoči asistentov) reševali programersko nalogo v programskem jeziku C++, ki bo vključevala nek algoritmičen problem povezan z vsebino predavanj. Nalogo boste lahko dokončali doma. Ob koncu sklopa se bodo vaše rešitve avtomatsko testirale. Za opravljeno nalogo mora vaša rešitev uspešno prestati vse primere. Prejeli boste povratno informacijo o številu uspešno prestalih testov, ne pa o njihovi vsebini. Kdor bo želel svojo rešitev popraviti, bo imel za to čas do konca naslednjega sklopa."
   ]
  },
  {
   "cell_type": "markdown",
   "id": "5d3a42df-d8d0-4620-86cf-aedda3a97f48",
   "metadata": {},
   "source": [
    "## Delovno okolje\n",
    "\n",
    "Vaše programe bomo ocenjevali na Ubuntu 22.04 s prevajalnikom GCC 11 in s standardom C++20. Če je vaš oddani program resitev.cpp, ga bomo prevedli in pognali z\n",
    "\n",
    "```text\n",
    "g++ -std=c++20 -o program resitev.cpp \n",
    "./program < test.in > test.res\n",
    "```\n",
    "\n",
    "Če si boste pripravljali virtualko z Ubuntu 22.04, morate dodatno namestiti build-essential paket, s katerim dobite C++ prevajalnik.\n",
    "\n",
    "```text\n",
    "sudo apt install build-essential\n",
    "```"
   ]
  },
  {
   "cell_type": "markdown",
   "id": "41f687b0-63ec-4ddb-81e3-330794b886bf",
   "metadata": {},
   "source": [
    "## Ocenjevanje\n",
    "\n",
    "Za pristop k izpitu morate imeti uspešno opravljeno sprotno delo, kar pomeni povsem pravilno rešenih vsaj 50% tedenskih nalog. Skoraj pravilna rešitev je še vedno nepravilna in je zato ne upoštevamo. Oceno predmeta prejmete na izpitu, ki ga rešujete na papir.\n",
    "\n",
    "Če odkrijemo dve ali več prepisanih rešitev, vsem udeleženim ne priznamo sprotnega dela in tako v tekočem študijskem letu ne morete opravljati izpita. Zato ne objavljajte svojih rešitev. Posebej drzne kršitve bomo prijavili disciplinski komisiji."
   ]
  },
  {
   "cell_type": "markdown",
   "id": "b1b01bb1-e1e7-4cfe-942f-4438f29d06be",
   "metadata": {},
   "source": [
    "## Literatura\n",
    "\n",
    "Algoritmi in podatkovne strukture:\n",
    "\n",
    "- Cormen, T. H., Leiserson, C. E., Rivest, R. L., &amp; Stein, C. (2022). Introduction to algorithms. MIT press.\n",
    "- Sedgewick R. & Wayne K. (2011). Algorithms fourth edition. Addison-Wesley.\n",
    "- Aho A. V. Hopcroft J. E. & Ullman J. D. (1983). Data structures and algorithms. Addison-Wesley.\n",
    "- Kononenko, I., Robnik Šikonja, M., & Bosnić, Z. (2008). Programiranje in algoritmi. Fakulteta za računalništvo in informatiko.\n",
    "\n",
    "Programiranje v C++:\n",
    "\n",
    "- [cplusplus](https://cplusplus.com/reference/), [cppreference](https://en.cppreference.com/w/)\n",
    "- [Modern C++ for C Programmers](https://berthub.eu/articles/posts/cpp-intro/)\n",
    "- Stroustrup, B. (2013). The C++ Programming Language.-4th. Addison-Wesley."
   ]
  },
  {
   "cell_type": "markdown",
   "id": "469b600d-e328-4fef-9d91-412122114a04",
   "metadata": {},
   "source": [
    "## Dodatne vaje\n",
    "\n",
    "Na spletu je kup strani, ki omogočajo reševanje programerskih in algoritmičnih nalog (po tematikah) s preverjanjem pravilnost: [Codeforces](https://codeforces.com/problemset), [SPOJ](https://www.spoj.com/problems), [LeetCode](https://leetcode.com/problemset/all), [HackerEarth](https://www.hackerearth.com/practice/), [HackerRank](https://www.hackerrank.com/dashboard), ..."
   ]
  }
 ],
 "metadata": {
  "kernelspec": {
   "display_name": "C++17",
   "language": "C++17",
   "name": "xcpp17"
  },
  "language_info": {
   "codemirror_mode": "text/x-c++src",
   "file_extension": ".cpp",
   "mimetype": "text/x-c++src",
   "name": "c++",
   "version": "17"
  }
 },
 "nbformat": 4,
 "nbformat_minor": 5
}
