{
 "cells": [
  {
   "cell_type": "markdown",
   "id": "d80ee681-5035-4704-9af6-9ef5d65e5306",
   "metadata": {},
   "source": [
    "# Požrešni algoritmi\n",
    "\n",
    "Pogosto lahko sestavimo rešitev nekega problema z zaporedjem korakov, pri čemer se na vsakem koraku odločimo za eno izmed več možnih izbir. Pri požrešnem (*greedy*) pristopu reševanje se na vsakem koraku odločimo za izbiro, ki v tistem trenutku izgleda najbolj obetavno. S takim načinom bomo najbrž našli kar spodobno rešitev, pa bo ta tudi optimalna? Odvisno od problema, zato moramo znati razlikovati, kje in zakaj take strategije delujejo in kdaj ne. \n",
    "\n",
    "Recimo, da želimo na spodnjem zemljevidu priti iz levega zgornjega vogala v desni spodnji vogal s čim manj premiki. Na zemljevidu znaki `.` predstavljajo prosta polja, znaki `#` pa zasedena. Očitno bomo gradili rešitev postopno po premikih. Na vsakem koraku se bomo odločili za eno izmed največ 3 možnih smeri (ne bomo se premikali nazaj od koder smo prišli). Smiselna mera obetavnosti premika je razdalja sosednjega polja od cilja. Prvo dilemo imamo na polju (3,3), kjer bolje izgleda premik navzdol, kar nas premakne bližje k cilju, kot premik navzgor. Vendar nas to vodi do slabše rešitve zaradi kasnejših komplikacij na poti, ki jih v trenutku požrešne izbire ne upoštevamo. Ni si težko zamisliti tudi primera, kjer taka izbira sploh ne bi vodila do rešitve.\n",
    "\n",
    "```\n",
    ".#..#.\n",
    ".#....\n",
    "...#..\n",
    "##.#.#\n",
    "...#.#\n",
    ".###..\n",
    ".#....\n",
    "...##.\n",
    "```\n",
    "\n",
    "V nadaljevanju si bomo ogledali več primerov problemov ter dokazov (ne)pravilnosti požrešnih strategij za njihovo reševanje, s čimer boste razvili nekaj intuicije in zdrave skeptičnosti glede uporabe požrešnih strategij. S požrešnimi strategijami se bomo ponovno srečali tudi kasneje pri algoritmih na grafih (Dijkstra, Prim, Kruskal)."
   ]
  },
  {
   "cell_type": "code",
   "execution_count": 1,
   "id": "db6647c5-ee15-4f00-96c3-ff42559659d7",
   "metadata": {},
   "outputs": [],
   "source": [
    "#include <cstdio>\n",
    "#include <iostream>\n",
    "#include <vector>\n",
    "#include <algorithm>\n",
    "#include <queue>\n",
    "using namespace std;"
   ]
  },
  {
   "cell_type": "code",
   "execution_count": 2,
   "id": "a5a81a16-34f0-4991-8bc9-8740530b1c93",
   "metadata": {},
   "outputs": [],
   "source": [
    "typedef pair<int,int> PII;\n",
    "typedef vector<pair<int,int>> VII;\n",
    "typedef vector<vector<pair<int,int>>> VVP;"
   ]
  },
  {
   "cell_type": "markdown",
   "id": "583be7f9-2d12-4b2f-8b80-b370121194fc",
   "metadata": {},
   "source": [
    "## Bencinske črpalke\n",
    "\n",
    "Začnimo s potovalnim problemom polnjenja avta na bencinskhi črpalkah (*car fueling*). Z avtom želimo potovati do $K$ kilometrov oddaljenega cilja. Pri tem vemo, da se vzdolž poti nahaja $N$ črpalk, ki so od našega izhodišča oddaljene $0 < x_1 < x_2 < \\dots < x_n < K$ kilometrov. Velikost posode za gorivo oz. doseg našega avta s polnim tankom je $T$ kilometrov (z delno polnim pa sorazmerno manj). Pot bomo začeli s polnim tankom goriva. Je cilj sploh dosegljiv? Kakšno je najmanjše število postankov na črpalkah, da prisemo na cilj?\n",
    "\n",
    "Primer: $K = 950, T = 400, x = [200, 375, 550, 750, 950]$.\n",
    "\n",
    "Ugotovitve:\n",
    "\n",
    "- Na črpalki je vedno smiselno povsem napolniti tank z gorivom. Če ga ne bi napolnili do vrha, bi lahko z bolj polnim tankom opravili enako pot do naslednje črpalke. Morebitenga ostanek goriva pa \"zlili stran\" oz. tam dotočili temu primerno manj.\n",
    "- Dosegljivost lahko preverimo tako, da tankamo na vsaki črpalki.\n",
    "- Če je mogoče doseči naslednjo črpalko (ali cilj), lahko preskočimo tankanje na trenutni črpalki. Na naslednji črpalki lahko namreč dotočimo gorivo do nivoja, ki bi ga imeli, če bi natočili gorivo na trenutni."
   ]
  },
  {
   "cell_type": "code",
   "execution_count": 3,
   "id": "56001b6b-c155-4299-8c40-891dd34fc1a7",
   "metadata": {},
   "outputs": [],
   "source": [
    "int crpalke(int K, int T, vector<int> x) {\n",
    "    x.insert(x.begin(), 0);\n",
    "    x.insert(x.end(), K);\n",
    "    int doseg=T, postanki=0;\n",
    "    for (int i=0;i+1<x.size();i++) {\n",
    "        int razdalja=x[i+1]-x[i];\n",
    "        if (doseg<razdalja) { postanki++; doseg=T; }  // po potrebi napolni\n",
    "        if (doseg<razdalja) return -1;  // tudi s polnim tankom ne gre\n",
    "        doseg-=razdalja;\n",
    "    }\n",
    "    return postanki;\n",
    "}"
   ]
  },
  {
   "cell_type": "markdown",
   "id": "4409115f-2cb9-4fe9-8166-08b9c9a205a6",
   "metadata": {},
   "source": [
    "Da si poenostavimo implementacijo bomo dodali začetek in konec poti kot dve dodatni črpalki. Nato se premikamo med sosednjimi črpalkami v skladu s prejšnjimi ugotovitvami. Preverimo rešitev na začetnem primeru in par drugih posebnih situacijah, kjer ne rabimo dolivati goriva, ga dolivamo povsod ali je nemogoče doseči cilj."
   ]
  },
  {
   "cell_type": "code",
   "execution_count": 4,
   "id": "318a8e34-40c6-4c2f-8dac-1c66c1277565",
   "metadata": {},
   "outputs": [
    {
     "name": "stdout",
     "output_type": "stream",
     "text": [
      "2\n",
      "0\n",
      "4\n",
      "-1\n"
     ]
    }
   ],
   "source": [
    "cout << crpalke(950, 400, {200,375,550,750}) << endl;\n",
    "cout << crpalke(950, 950, {200,375,550,750}) << endl;\n",
    "cout << crpalke(950, 200, {200,375,550,750}) << endl;\n",
    "cout << crpalke(950, 199, {200,375,550,750}) << endl;"
   ]
  },
  {
   "cell_type": "markdown",
   "id": "3efd0014-a1b4-4b3c-9b5e-9e5ab5097906",
   "metadata": {},
   "source": [
    "## Izbira aktivnosti\n",
    "\n",
    "Izbira med seboj neodvisnih aktivnosti iz nabora ponujenih (*activity selection*) je klasičen problem. Podanih imamo $N$ aktivnosti, kjer se $i$-ta aktivnost $a_i$ izvaja v obdobju $(s_i, e_i)$. Izbrati moramo čim večjo podmnožico aktivnosti, za katero velja, da je presek poljubnih dveh aktivnosti prazen (aktivnost se sicer lahko začne v trenutku, ko se prejšnja konča). Ker lahko aktivnosti predstavimo z daljicami, je problem znan tudi kot *interval scheduling*.\n",
    "\n",
    "Primer: $[(1,3), (2,4), (2,5), (4,5), (4,7), (6,7), (6,8), (7,12), (8,12), (9,10), (9,11), (11,12), (12,13)]$\n",
    "\n",
    "<img alt=\"aktivnosti\" src=\"https://pumice.si/aktivnosti/rezervacije/screenshots/daljice.png\" width=\"600px\"/>\n",
    "\n",
    "Hitro pridemo na več idej, kako bi se lahko lotili problema brez preverjanja vseh podmnožic. Katere od njih pa so res pravilne?"
   ]
  },
  {
   "cell_type": "markdown",
   "id": "99f3520b-9fde-4458-afc4-dc79d67fff56",
   "metadata": {},
   "source": [
    "- **najzgodnejši začetek** (*earliest start*)\n",
    "\n",
    "Ne izgubljajmo časa s čakanjem! Razpored aktivnosti lahko sestavljamo po korakih tako, da vsakič dodamo aktivnost, ki se začne prva po zaključku trenutnega razporeda. \n",
    "\n",
    "Protiprimer: $[(1,6), (2,3), (4,5)]$"
   ]
  },
  {
   "cell_type": "markdown",
   "id": "f1d1825d-1071-49b5-a5f1-9bc57576f3c0",
   "metadata": {},
   "source": [
    "- **najkrajši** (*shortest*)\n",
    "\n",
    "Dolge aktivnosti zasedejo veliko časa, zato začnimo z majhnimi! Razpored sestavljamo tako, da vanj dodajamo aktivnosti od krajših proti večjim. Če za neko aktivnost ni prostora, jo preskočimo.\n",
    "\n",
    "Protiprimer: $[(4,7), (1,5), (6,10)]$"
   ]
  },
  {
   "cell_type": "markdown",
   "id": "075e109f-a531-467e-9858-13bdcebf12ae",
   "metadata": {},
   "source": [
    "- **najmanj konflikten** (*fewest conflicts*)\n",
    "\n",
    "Težave so s konflikti med aktivnostmi, zato začnimo z najmanj konfliktnimi! Izračunajmo konfliktnost vsake aktivnosti in jih po vrsti poskusimo dodajati v razpored. Lahko konfliktnosti izračunamo vnaprej ali jih moramo posodabljati, ko nekatere aktivnosti že dodamo v razpored?\n",
    "\n",
    "Protiprimer: $[(6,9), (1,3), (4,7), (8,11), (12,14), (2,5), (2,5), (2,5), (10,13), (10,13), (10,13)]$. Prvi interval ima samo dva konflikta, vendar njegova izbira vodi v rešitev s tremi intervali, primer pa lahko rešimo s štirimi."
   ]
  },
  {
   "cell_type": "markdown",
   "id": "b81aa293-6dbe-4bc0-854f-5b12d3eb5884",
   "metadata": {},
   "source": [
    "- **najzgodnejši konec** (*earliest finish*)\n",
    "\n",
    "Čim prej zaključimo s prvo aktivnostjo, da bomo imeli čim več časa za ostale! Med vsemi aktivnostmi, ki se začnejo ob ali po koncu trenutno zadnje izberemo tisto z najzgodnejšim koncem.\n",
    "\n",
    "Protiprimer: ?\n",
    "\n",
    "To izgleda obetavno. Dokažimo, da je pravilno. Recimo, da obstaja boljša optimalna rešitev, ki se na začetku strinja s požrešno, pri $i$-ti aktivnosti v izbranem razporedu pa pride prvič do razlike. Optimalna izbere aktivnost $o$, požrešna pa $p$. Ker požrešna vedno izbere aktivnost z najzgodnejšim koncem, velja $e_p <= e_o$. Zato se aktivnost $p$ ne more pojaviti kje kasneje v predpostavljeni optimalni razporeditvi. Obe aktivnosti nista konfliktni s predhodnimi. Če v optimalnem razporedu zamenjamo aktivnost $o$ z $p$, bo preostanek razporeda ostal veljaven, rešitev pa ne bo nič slabša. Prišli smo torej do protislovja in zato ne obstaja rešitev, ki bi bila boljša od požrešne."
   ]
  },
  {
   "cell_type": "code",
   "execution_count": 5,
   "id": "28654b50-6d2f-4953-9634-c205b59fe1bf",
   "metadata": {},
   "outputs": [],
   "source": [
    "VII aktivnosti(VII a) {\n",
    "    VII razpored;\n",
    "    int konec=0;\n",
    "    while (1) {\n",
    "        int j=-1;\n",
    "        for (int i=0;i<a.size();i++) {\n",
    "            if (konec<=a[i].first) {  // relevanten?\n",
    "                if (j==-1 || a[i].second<a[j].second) j=i;  // boljsi?\n",
    "            }\n",
    "        }\n",
    "        if (j==-1) break;\n",
    "        razpored.push_back(a[j]);\n",
    "        konec=a[j].second;\n",
    "        a.erase(a.begin()+j);\n",
    "    }\n",
    "    return razpored;\n",
    "}"
   ]
  },
  {
   "cell_type": "code",
   "execution_count": 6,
   "id": "ba1a41e5-ee7a-4132-a527-39a304112c62",
   "metadata": {},
   "outputs": [
    {
     "name": "stdout",
     "output_type": "stream",
     "text": [
      "6: (1,3) (4,5) (6,7) (9,10) (11,12) (12,13)\n"
     ]
    }
   ],
   "source": [
    "VII a = {{1,3}, {2,4}, {2,5}, {4,5}, {4,7}, {6,7}, {6,8}, {7,12}, {8,12}, {9,10}, {9,11}, {11,12}, {12,13}};\n",
    "VII r = aktivnosti(a);\n",
    "printf(\"%d:\",(int)r.size());\n",
    "for (auto [s,e] : r) printf(\" (%d,%d)\",s,e);\n",
    "printf(\"\\n\");"
   ]
  },
  {
   "cell_type": "markdown",
   "id": "d1a042cf-d56a-40fc-9593-5e152cbc6156",
   "metadata": {},
   "source": [
    "Lahko to naredimo bolj učinkovito? Aktivnosti uredimo po njihovih koncih in jih izbiramo po vrsti, če se začetek ne seka s koncem trenutno zadnje aktivnosti. Časovna zahtevnost je tako samo $O(n log n)$. Gre še hitreje? Če so vrednosti majhna cela števila, bi lahko uporabili urejanje s štetjem."
   ]
  },
  {
   "cell_type": "code",
   "execution_count": 7,
   "id": "28e07d38-2622-484d-aeb4-f7b189148dc9",
   "metadata": {},
   "outputs": [],
   "source": [
    "bool cmpSecond(pair<int,int> a, pair<int,int> b) {\n",
    "    return a.second < b.second;\n",
    "}"
   ]
  },
  {
   "cell_type": "code",
   "execution_count": 8,
   "id": "e10d6f6e-ce83-4c4f-9011-442bc10b8819",
   "metadata": {},
   "outputs": [],
   "source": [
    "VII aktivnosti(VII a) {\n",
    "    sort(a.begin(), a.end(), cmpSecond);\n",
    "    VII razpored;\n",
    "    int konec=0;\n",
    "    for (auto [s,e] : a) {\n",
    "        if (konec<=s) {\n",
    "            razpored.push_back({s,e});\n",
    "            konec = e;\n",
    "        }\n",
    "    }\n",
    "    return razpored;\n",
    "}"
   ]
  },
  {
   "cell_type": "code",
   "execution_count": 9,
   "id": "49d90d9d-b850-40f0-b4b0-acc019a47757",
   "metadata": {},
   "outputs": [
    {
     "name": "stdout",
     "output_type": "stream",
     "text": [
      "6: (1,3) (4,5) (6,7) (9,10) (11,12) (12,13)\n"
     ]
    }
   ],
   "source": [
    "VII a = {{1,3}, {2,4}, {2,5}, {4,5}, {4,7}, {6,7}, {6,8}, {7,12}, {8,12}, {9,10}, {9,11}, {11,12}, {12,13}};\n",
    "VII r = aktivnosti(a);\n",
    "printf(\"%d:\",(int)r.size());\n",
    "for (auto [s,e] : r) printf(\" (%d,%d)\",s,e);\n",
    "printf(\"\\n\");"
   ]
  },
  {
   "cell_type": "markdown",
   "id": "89cc5b45-c1f8-4a87-a52c-fa39f772bccf",
   "metadata": {},
   "source": [
    "Kaj pa utežena različica problema, kjer ima vsaka aktivnost poleg začetka in konca tudi svojo pomembnost in želimo namesto števila aktivnosti v razporedu maksimizirati vsoto pomembnosti? To se izkaže za malo težji problem, h kateremu se bomo vrnili kasneje pri tehniki dinamičnega programiranja."
   ]
  },
  {
   "cell_type": "markdown",
   "id": "8e1998eb-252c-4450-b405-473cbd7fb317",
   "metadata": {},
   "source": [
    "## Rezervacije učilnic\n",
    "\n",
    "Pri problemu rezervacije učilnic (*classroom scheduling, interval partitioning*) moramo na fakulteti izvesti $N$ predavanj, kjer posamezno predavanje poteka v časovnem intervalu $(s_i, e_i)$. Kakšno je najmanjše število predavalnic, ki jih potrebujemo, da bomo lahko izvedli vsa predavanja?\n",
    "\n",
    "V primerjavi s prej obravnavanim problemom izbire aktivnosti, smo morali tam izbrati čim več aktivnosti, ki jih lahko izvedemo z eno predavalnico. V tem primeru pa moramo izvesti vse, pri čemer nas zanima, najmanj koliko predavalnic potrebujemo.\n",
    "\n",
    "Spodnji primer prikazuje razpored predavanj s štirimi predavalnicami, mogoče pa jih je izvesti tudi samo s tremi.\n",
    "```\n",
    "P1: (4,10), (12,15)\n",
    "P2: (0,3), (4,7), (8,11)\n",
    "P3: (0,7), (10,15)\n",
    "P4: (0,3), (8,11), (12,15)\n",
    "```\n",
    "\n",
    "Če v kakšnem trenutku sočasno poteka več predavanj, bomo zagotovo potrebovali vsaj toliko predavalnic. Največjemu številu sočasnih predavanj bomo rekli globina (*depth*), ki predstavlja spodnjo mejo rešitve. Je to spodnjo mejo vedno mogoče doseči, ali kdaj potrebujemo več predavalnic? Če se razporejanja lotimo slabo, jih bomo seveda potrebovali več; kaj pa če jih razporedimo optimalno?\n",
    "\n",
    "S požrešnim algoritmom bomo predavanja po vrsti glede na njihov začetek razporejali v predavalnice. Na vsakem koraku preverimo, ali je kakšna od predavalnic že prosta in lahko vanjo dodelimo trenutno predavanje. Če je takih več, izberemo katerokoli. Če take predavalnice ni, odpremo/dodamo novo predavalnico (začnemo z 0 predavalnicami) in v njo dodelimo novo predavanje.\n",
    "\n",
    "Dokažimo, da prej opisani postopek doseže ravno globino množice predavanj, ki je spodnja meja rešitve. Recimo, da postopek potrebuje $d$ predavalnic. Do tega pride, ko želimo nekam razporediti predavanje $i$ z začetkom ob času $t=s_i$, vendar so vse ostale predavalnice še zasedene. To pomeni, da imamo $d-1$ predavanj, ki se zaključijo po času $t$. Vsa predavanja, ki potekajo v njih, so se začela prej ali takrat kot $i$-to, ker jih dodajamo po vrsti. Torej so vsi njihovi začetki manjši ali enaki $t$. V trenutku $t+\\epsilon$ torej poteka sočasno $d$ predavanj. Če je požrešen postopek uporabil $d$ predavalnic, je to zato, ker nekje sočasno poteka $d$ predavanj."
   ]
  },
  {
   "cell_type": "code",
   "execution_count": 10,
   "id": "4a403b8f-ce3e-4f84-a53b-d46f240e9f9a",
   "metadata": {},
   "outputs": [],
   "source": [
    "VVP predavalnice(VII predavanja) {\n",
    "    sort(predavanja.begin(), predavanja.end());\n",
    "    VVP urnik;\n",
    "    for (auto p : predavanja) {\n",
    "        auto [s,e] = p;\n",
    "        int x=-1;\n",
    "        for (int i=0;i<urnik.size();i++) {\n",
    "            if (urnik[i].back().second<=s) { x=i; break; }\n",
    "        }\n",
    "        if (x==-1) urnik.push_back({p});  // odpremo novo\n",
    "        else urnik[x].push_back(p);\n",
    "    }\n",
    "    return urnik;\n",
    "}"
   ]
  },
  {
   "cell_type": "code",
   "execution_count": 11,
   "id": "be1fd80f-eacf-4189-83d2-2657ab02e679",
   "metadata": {},
   "outputs": [
    {
     "name": "stdout",
     "output_type": "stream",
     "text": [
      " (0,3) (4,7) (8,11) (12,15)\n",
      " (0,3) (4,10) (10,15)\n",
      " (0,7) (8,11) (12,15)\n"
     ]
    }
   ],
   "source": [
    "VII predavanja = {{4,10}, {12,15}, {0,3}, {4,7}, {8,11}, {0,7}, {10,15}, {0,3}, {8,11}, {12,15}};\n",
    "VVP urnik = predavalnice(predavanja);\n",
    "for (auto ucilnica : urnik) {\n",
    "    for (auto [s,e] : ucilnica) printf(\" (%d,%d)\",s,e);\n",
    "    printf(\"\\n\");\n",
    "}"
   ]
  },
  {
   "cell_type": "markdown",
   "id": "0f575de1-c467-4086-b4eb-030b26983b8d",
   "metadata": {},
   "source": [
    "Dokazali smo, da je rešitev pravilna. Razmislimo še o njeni učinkovitosti. Razporediti moramo $N$ predavanja enega za drugim. Pri tem pa vsakič preverimo vse odprte predavalnice. Lahko se nam zgodi, da bo vsako predavanje v svoji predavalnici, zato jih je na vsakem koraku treba preveriti $O(N)$. Časovna zahtevnost zgornje implementacije je torej $O(N^2)$.\n",
    "\n",
    "Kako bi lahko to izboljšali? Najbolj problematičen del je iskanje proste predavalnice. Predavalnice bi lahko hranili urejene v prioritetni vrsti glede na čas zaključka zadnjega predavanja. Namesto v poljubno prosto predavalnico, bomo razporedili predavanje v tisto, ki je že najdlje prosta. Če ta ni primerna, ne bo tudi nobena druga. Če uporabimo dvojiško kopico, je časovna zahtevnost $O(N \\log N)$."
   ]
  },
  {
   "cell_type": "code",
   "execution_count": 12,
   "id": "abac8c3a-47fa-4d1f-8f2c-78476915cce8",
   "metadata": {},
   "outputs": [],
   "source": [
    "VVP predavalnice(VII predavanja) {\n",
    "    sort(predavanja.begin(), predavanja.end());\n",
    "    VVP urnik;\n",
    "    priority_queue<PII, VII, greater<PII>> pq;  // min-heap\n",
    "    pq.push({predavanja.back().second, -1});  // dummy\n",
    "    for (auto p : predavanja) {\n",
    "        auto [s,e] = p;\n",
    "        auto [konec, x] = pq.top();\n",
    "        if (konec<=s) {\n",
    "            pq.pop(); pq.push({e,x});\n",
    "            urnik[x].push_back(p);\n",
    "        } else {\n",
    "            pq.push({e, urnik.size()});\n",
    "            urnik.push_back({p});\n",
    "        }\n",
    "    }\n",
    "    return urnik;\n",
    "}"
   ]
  },
  {
   "cell_type": "code",
   "execution_count": 13,
   "id": "ef44543e-8405-49d5-8bb5-afa93659535f",
   "metadata": {},
   "outputs": [
    {
     "name": "stdout",
     "output_type": "stream",
     "text": [
      " (0,3) (4,7) (8,11) (12,15)\n",
      " (0,3) (4,10) (10,15)\n",
      " (0,7) (8,11) (12,15)\n"
     ]
    }
   ],
   "source": [
    "VII predavanja = {{4,10}, {12,15}, {0,3}, {4,7}, {8,11}, {0,7}, {10,15}, {0,3}, {8,11}, {12,15}};\n",
    "VVP urnik = predavalnice(predavanja);\n",
    "for (auto ucilnica : urnik) {\n",
    "    for (auto [s,e] : ucilnica) printf(\" (%d,%d)\",s,e);\n",
    "    printf(\"\\n\");\n",
    "}"
   ]
  },
  {
   "cell_type": "markdown",
   "id": "ed4ff1bf-9634-4e78-bcf4-153977010560",
   "metadata": {},
   "source": [
    "## Datoteke na traku\n",
    "\n",
    "Pred časom trdih diskov, so se podatki hranili na trakovih. Slaba stran trakov je, da je treba za dostop do podatka na mestu $x$ prevrteti celoten trak od začetka do tega mesta. Oglejmo si problem optimalnega shranjevanja datotek na traku (*storing files on tape*). Podanih imamo $N$ datotek, ki so opisane s pari števil $d_i = (s_i, f_i)$, kjer $s_i$ velikost datoteke, $f_i$ pa pogostost dostopa do nje. Ceno zapisa datotek na trak bomo ocenili z $\\sum_i x_i f_i$, kjer je $x_i$ začetno mesto zapisa datoteke. Pri tem se zapisi datotek seveda ne smejo prekrivati. Kakšen je optimalen razpored datotek in z njim povezana minimalna cena?\n",
    "\n",
    "Primer: $d = [(60,5), (27,3), (1,20), (32,4)]$\n",
    "\n",
    "Ugotovitve:\n",
    "\n",
    "- Datoteke je smiselno zapisovati v strnjenem zaporedju, saj morebiten prazen prostor med njimi samo škodi.\n",
    "- Ni enostavno.\n",
    "\n",
    "Preizkusimo najprej obnašanje problema na manjših različicah. S tem dobimo tudi občutek za glavne ovire pri reševanju. Pripravimo si funkcijo za ocenjevanje razporeda in preizkusimo različne permutacije."
   ]
  },
  {
   "cell_type": "code",
   "execution_count": 14,
   "id": "1b0d1fd7-5d60-4663-aa0c-c2ec038f94cf",
   "metadata": {},
   "outputs": [],
   "source": [
    "int score(vector<pair<int,int>> d) {\n",
    "    int x=0, sc=0;\n",
    "    for (auto [s,f] : d) { sc+=x*f; x+=s; }\n",
    "    return sc;\n",
    "}"
   ]
  },
  {
   "cell_type": "code",
   "execution_count": 15,
   "id": "d6538f3c-8312-4bda-8317-e0ddc4b6cd19",
   "metadata": {},
   "outputs": [
    {
     "name": "stdout",
     "output_type": "stream",
     "text": [
      "2272\n",
      "415 495 403 448 540 528 952 1032 1588 2783 2227 2863 1039 1084 1576 2771 2279 2816 1735 1723 2272 2908 2359 2896 "
     ]
    }
   ],
   "source": [
    "VII d = {{60,5}, {27,3}, {1,20}, {32,4}};\n",
    "cout << score(d) << endl;\n",
    "sort(d.begin(),d.end());\n",
    "do {\n",
    "    cout << score(d) << ' ';\n",
    "} while (next_permutation(d.begin(),d.end()));"
   ]
  },
  {
   "cell_type": "markdown",
   "id": "bf00b4cb-cc05-44fe-b1cf-d2ac7310fc84",
   "metadata": {},
   "source": [
    "Problem deluje zapleteno, zato najprej rešimo poenostavljene različice.\n",
    " \n",
    "Recimo, da so vse datoteke enako dolge, npr. $s_i=1$. Intuitivno bi rekli, da morajo biti bolj pogosto dostopane datoteke na začetku, da bo dostop do njih hiter. Naj bosta sosednji datoteki $i$ in $j$, pred njima pa se nahaja $x$ datotek. K ceni prispevata $x f_i + (x+1) f_j$. Če ju med seboj zamenjamo, bosta prispevali $x f_j + (x+1)f_i$, kar je sprememba za $f_i-f_j$. Če je negativna (kar zmanjša ceno), ko je $f_i < f_j$, ju je smiselno zamenjati, da bo bolj pogosto dostopana datoteka pred manj dostopano. S tem lahko utemeljimo, da je optimalen naraščajoč vrstni red po pogostosti dostopa.\n",
    "\n",
    "Recimo, da imajo vse datoteke točno en dostop, torej $f_i=1$. Intuitivno bo želeli imeti kratke datoteke na začetku, saj naredijo manj \"škode\" kot daljše. S podobnim argumentom o zamenjavi lahko dokažemo, da morajo biti datoteke na traku urejene naraščajoče po velikosti. Če primerjamo oba možna vrstna reda dveh sosednjih datotek $i$ in $j$ sta njuna doprinosa k ceni $x + (x+s_i)$ in $x + (x+s_j)$. Na ceno ostalih njuna medsebojna zamenjava nima vpliva. Vrstni red, kjer je $i$ pred $j$, je torej boljši, če je $s_i < s_j$.\n",
    "\n",
    "Obravnavajmo sedaj splošen primer, kjer opazujemo možna vrstna reda dveh sosednjih datotek na traku. Ceni dostopa sta $x f_i + (x+s_i) f_j$ in $x f_j + (x+s_j) f_i$, če bi bila datoteka $j$ pred $i$. Hitro lahko izračunamo, kdaj je cena ureditve $i$ pred $j$ manjša od obratne. Tako pridemo do zaključka, da morajo biti v optimalnem vrstnem redu datoteke urejene naraščajoče glede na razmerje med velikostjo in pogostostjo dostopa $s_i/f_j$. Torej jih lahko v rešitev požrešno zložimo po vrsti od tistih z nižjim proti tistim z višjim razmerjem.\n",
    "\n",
    "$$\n",
    "\\begin{aligned}\n",
    "x f_i + (x+s_i) f_j & \\leq x f_j + (x+s_j) f_i \\\\\n",
    "s_i f_j & \\leq s_j f_i \\\\\n",
    "s_i / f_i & \\leq s_j / f_j\n",
    "\\end{aligned}\n",
    "$$"
   ]
  },
  {
   "cell_type": "code",
   "execution_count": 16,
   "id": "16c770a4-78c7-43b5-bd2c-2e1048a588d0",
   "metadata": {},
   "outputs": [],
   "source": [
    "bool cmpRatio(pair<int,int> a, pair<int,int> b) {\n",
    "    return a.first*b.second < b.first*a.second;  // a.first/a.second < b.first/b.second ... racunska napaka?\n",
    "}"
   ]
  },
  {
   "cell_type": "code",
   "execution_count": 17,
   "id": "38964ab3-bf44-4cc0-92f3-a9400be8da87",
   "metadata": {},
   "outputs": [],
   "source": [
    "int trak(vector<pair<int,int>> d) {\n",
    "    sort(d.begin(), d.end(), cmpRatio);\n",
    "    return score(d);\n",
    "}"
   ]
  },
  {
   "cell_type": "code",
   "execution_count": 18,
   "id": "2ed86114-3bdf-4b7b-91fa-56e719674d09",
   "metadata": {},
   "outputs": [
    {
     "name": "stdout",
     "output_type": "stream",
     "text": [
      "403\n"
     ]
    }
   ],
   "source": [
    "cout << trak(d) << endl;"
   ]
  },
  {
   "cell_type": "markdown",
   "id": "508b6707-2bd3-4605-8e67-49e85a2e4b2c",
   "metadata": {},
   "source": [
    "## Minimizacija zamude\n",
    "\n",
    "Pri razvrščanju z minimizacijo največje zamude (*minimum lateness scheduling*) imamo opravka z $N$ opravili, ki jih moramo izvesti na enem računalniku. Vsako opravilo je opisano s parom $o_i = (t_i, d_i)$, ki predstavlja čas izvajanja in rok, do katerega mora biti opravilo zaključeno. Če je $s_i$ čas začetka izvajanja, se konča ob času $f_i = s_i+t_i$. Zamuda opravila je $z_i = \\max(0, f_i-d_i)$. Cilj razvrščanja opravil je *minimizirati največjo zamudo* opravila v razporedu. Minimiziramo torej $Z = \\max z_i$.\n",
    "\n",
    "Primer: $o = [(2,5), (1,2), (3,6), (2,7)]$\n",
    "\n",
    "Očitno ni koristi od tega, da bi imel urnik kakšne proste luknje. Z odstranitvijo lukenj zagotovo ne moremo poslabšati urnika oz. maksimalne zamude, morda pa bi ga izboljšamo. Odločiti se moramo samo za vrstni red opravil. Namesto preverjanja vseh permutacij, se ponovno ponuja nekaj požrešnih strategij."
   ]
  },
  {
   "cell_type": "code",
   "execution_count": 19,
   "id": "60c283fd-0cef-4cb2-8296-0c9defa3c24d",
   "metadata": {},
   "outputs": [],
   "source": [
    "int late(VII o) {\n",
    "    int Z=0,now=0;\n",
    "    for (auto [t,d] : o) {\n",
    "        now+=t;\n",
    "        int z=max(0, now-d);\n",
    "        if (z>Z) Z=z;\n",
    "    }\n",
    "    return Z;\n",
    "}"
   ]
  },
  {
   "cell_type": "code",
   "execution_count": 20,
   "id": "54b3a45c-3c14-49ac-a5a6-a18b4d9a2ffc",
   "metadata": {},
   "outputs": [
    {
     "name": "stdout",
     "output_type": "stream",
     "text": [
      "2 1 2 3 1 3 2 1 3 6 4 6 2 3 3 6 4 6 2 3 4 6 4 6 "
     ]
    }
   ],
   "source": [
    "VII o = {{2,5}, {1,2}, {3,6}, {2,7}};\n",
    "sort(o.begin(),o.end());\n",
    "do {\n",
    "    cout << late(o) << ' ';\n",
    "} while (next_permutation(o.begin(),o.end()));"
   ]
  },
  {
   "cell_type": "markdown",
   "id": "9b09a45b-9a51-49cd-bf9d-2374a2845a6b",
   "metadata": {},
   "source": [
    "- **najkrajši čas izvajanja** (*shortest processing time*)\n",
    "\n",
    "Kratka opravila izvedemo prej, da ne bodo zamujala zaradi dolgih opravil! Kaj pa, če imajo dolga opravila kratke roke in obratno?\n",
    "\n",
    "Protiprimer: $[(1,100), (10,10)]$"
   ]
  },
  {
   "cell_type": "markdown",
   "id": "90505e80-3c60-45b5-9a50-4a58ecac7330",
   "metadata": {},
   "source": [
    "- **najkrajši prosti čas** (*smallest slack*)\n",
    "\n",
    "Upoštevati moramo tudi rok opravila. Opravila izvajamo glede na naraščajoč prosti čas oz. \"manevrski prostor\" $d_i-t_i$!\n",
    "\n",
    "Protiprimer: $[(1,2), (10,10)]$"
   ]
  },
  {
   "cell_type": "markdown",
   "id": "25064414-48c0-4ab1-855e-ccf6cef6da30",
   "metadata": {},
   "source": [
    "- **najzgodnejši rok** (*earliest deadline*)\n",
    "\n",
    "Upoštevati moramo tudi rok opravila. Opravila izvajamo glede na naraščajoč prosti čas oz. \"manevrski prostor\" $d_i-t_i$!\n",
    "\n",
    "Protiprimer: ?\n",
    "\n",
    "Izgleda ok, pa je res optimalno? Naj bodo opravila urejena naraščajoče po rokih, torej $d_1 \\leq d_2 \\leq ... \\leq d_N$. Recimo, da obstaja neka optimalna rešitev, ki je boljša od požrešne. V njej se zagotovo pojavljata dve sosednji opravili $j$ in $i$, kjer ima prvo kasnejši rok od drugega ($d_j > d_i$); sicer bi bila ta rešitev enaka požrešni. Nova zamuda ($z'$) vseh drugih opravil razen $i$ in $j$ se ne spremeni. Zamuda opravila $i$ se kvečjemu zmanjša, ker se opravilo po zamenjavi zaključi prej. Če opravilo $j$ po zamenjavi ne zamuja, ni problema. Recimo torej, da zamuja in sicer za $z'_j = f'_j - d_j = f_i - d_j \\leq f_i - d_i = z_i$ (končata se ob enakem času; $j$ ima manjši rok). \n",
    "\n",
    "Vemo torej, $z'_k = z_k \\quad \\forall k \\notin \\{i,j\\}, \\quad z'_i \\leq z_i, \\quad z'_j \\leq z_i$. Iz tega sledi, da je $Z' = \\max z'_k \\leq \\max z_k = Z$. Če ti dve opravili zamenjamo med seboj, ne bomo povečali največje zamude. Če to ponavljamo, bomo prišli do lepo urejene požrešne rešitve ne da bi povečali zamudo, kar pa je v protislovju s predpostavko, da obstaja boljša rešitev."
   ]
  },
  {
   "cell_type": "code",
   "execution_count": 21,
   "id": "0420ebfa-0925-4799-99de-a6988f386226",
   "metadata": {},
   "outputs": [],
   "source": [
    "int zamuda(VII o) {\n",
    "    sort(o.begin(),o.end(),cmpSecond);\n",
    "    return late(o);\n",
    "}"
   ]
  },
  {
   "cell_type": "code",
   "execution_count": 22,
   "id": "525bb6ac-6f89-4fc7-8ca1-77033863e6d7",
   "metadata": {},
   "outputs": [
    {
     "name": "stdout",
     "output_type": "stream",
     "text": [
      "1\n"
     ]
    }
   ],
   "source": [
    "cout << zamuda(o) << endl;"
   ]
  },
  {
   "cell_type": "markdown",
   "id": "9aa96132-4728-4ce2-aa35-d3ed772561f2",
   "metadata": {},
   "source": [
    "## Dokazovanje pravilnosti\n",
    "\n",
    "Za dokazovanje pravilnosti požrešnih strategij smo uporabiljali naslednje pogosto uporabljene vrst argumentov, ki pa seveda niso edini.\n",
    "\n",
    "#### Prednost (*stay ahead*)\n",
    "\n",
    "Dokažemo, da je po vsakem koraku rešitev požrešne strategije vsaj tako dobra kot katerakoli druga.\n",
    "\n",
    "#### Zamenjava (*exchange argument*)\n",
    "\n",
    "Dokažemo, da lahko z določenimi spremembami pretvorimo predpostavljeno boljšo rešitev v tako, ki bi jo našla tudi požrešna metoda, pri tem pa ne poslabšamo njene kvalitete. Pravilnost požrešnega algoritma smo dokazali s protislovjem po naslednjem principu:\n",
    "\n",
    "1. Predpostavimo, da obstaja optimalna rešitev, ki je boljša od požrešne rešitve in naj bo $i$ prvo mesto, kjer se optimalna rešitev razlikuje od požrešne.\n",
    "2. Argumentiramo, da bi lahko na tem mestu izbrali tudi požrešno potezo in zato rešitev ne bi bila nič slabša, morda pa celo boljša.\n",
    "3. Našli smo protislovje, ker smo lahko skonstruirali rešitev, ki se ujema s požrešno na prvih $i$ mestih in je enako dobra ali celo boljša od predpostavljene \"optimalne\".\n",
    "4. Predpostavka, da obstaja rešitev, ki je boljša od požrešne, torej ne drži in je požrešna rešitev zato optimalna.\n",
    "\n",
    "#### Struktura (*structural argument*)\n",
    "\n",
    "Dokažemo neko strukturno lastnost (vrednost) optimalne rešitve, ki predstavlja mejo in dokažemo, da jo požrešna rešitev res doseže. "
   ]
  },
  {
   "cell_type": "markdown",
   "id": "8e6798c8-57a7-4edd-8eec-e596eb876b1d",
   "metadata": {},
   "source": [
    "## Menjava kovancev\n",
    "\n",
    "V blagajni imamo kovance (in bankovce) različnih vrednosti v evrih: 1, 2, 5, 10, 20, 50, 100, 200 in 500 €. Predpostavimo, da je blagajna dobro založena z vsemi vrednostmi. Blagajniki se običajno poslužujejo požrešne strategije za vrnitev določene vrednosti $X$ s čim manjšim številom kovancev. Uporabijo največji kovanec, ki ne presega vrednosti $X$ in nato ponovijo postopek na zmanjšani vrednosti.\n",
    "\n",
    "Ali s tem za vsako možno vrednost $X$ res uporabijo najmanjše število kovancev? Izkaže se, da v primeru evrskih kovancev to drži. Kako bi to lahko dokazali, se bomo ponovno vprašali v poglavju od dinamičnem programiranju, kjer bomo znali izračunati optimalno število kovancev.\n",
    "\n",
    "Ali to velja za poljuben nabor vrednosti kovancev? Hitro najdemo protiprimer, npr. plačilo 6 s kovanci $[1, 3, 4]$. Požrešna metoda bi uporabila tri kovance ($6=4+1+1$), optimalna pa zgolj dva ($6=3+3$).\n",
    "\n"
   ]
  }
 ],
 "metadata": {
  "kernelspec": {
   "display_name": "C++17",
   "language": "C++17",
   "name": "xcpp17"
  },
  "language_info": {
   "codemirror_mode": "text/x-c++src",
   "file_extension": ".cpp",
   "mimetype": "text/x-c++src",
   "name": "c++",
   "version": "17"
  }
 },
 "nbformat": 4,
 "nbformat_minor": 5
}
