{
 "cells": [
  {
   "cell_type": "markdown",
   "id": "6fcd0d8c-4c8f-4d4e-ae57-b7b86aab0d62",
   "metadata": {},
   "source": [
    "# Abstraktni podatkovni tipi\n",
    "\n",
    "Abstraktni podatkovni tip (APT, *abstract data type*) poleg množice možnih vrednosti definira tudi vse operacije, ki so dovoljene na elementih tega podatkovnega tipa, ne definira pa konkretne predstavitve podatkov\n",
    "\n",
    "Podatkovna struktura (PS, *data structure*) je način organizacije in hrambe podatkov, ki omogoča njihovo učinkovito uporabo, kot so npr. dostop do podatkov, obdelava in spreminjanje.\n",
    "\n",
    "Abstraktni podatkovni tip torej definira **funkcionalnost**, ne pa konkretne **implementacije** in s tem povezane računske zahtevnosti posameznih operacij. Kot bomo videli že na prvem primeru polja, ločnica ni vedno najbolj jasna, ker se enaka imena lahko uporabljajo v obeh pomenih."
   ]
  },
  {
   "cell_type": "code",
   "execution_count": 1,
   "id": "6e4f7419-7a80-45b0-99a7-90ce900cdccb",
   "metadata": {},
   "outputs": [],
   "source": [
    "#include <iostream>\n",
    "#include <vector>\n",
    "#include <random>\n",
    "#include <stdlib.h>\n",
    "using namespace std;"
   ]
  },
  {
   "cell_type": "markdown",
   "id": "d6bf3429-de27-4b74-ae08-2f1821a7420e",
   "metadata": {},
   "source": [
    "## Polje (*array*)\n",
    "\n",
    "Polje lahko interpretiramo na dva načina: kot abstraktni podatkovni tip (APT) ali kot podatkovno strukturo (PS).\n",
    "\n",
    "Polje (ADT) hrani urejen nabor elementov, do katerih lahko dostopamo s celoštevilskim indeksi. Omogoča naslednjo funkcionalnost:\n",
    "- `set(i,x)`: Shrani element x na indeks i.\n",
    "- `get(i)`: Vrni element na indeksu i.\n",
    "\n",
    "Polje oz. tabela (DS) je hkrati tudi ena najbolj osnovnih podatkovnih struktur, ki hrani podatke enakega tipa/velikosti zaporedno enega za drugim v strnjenem kosu pomnilnika.\n",
    "\n",
    "Primeri: (Pascal: `array [1..12] of integer`), (C, C++: `int t[12]`), (Java: `int[] t = new int[12]`)."
   ]
  },
  {
   "cell_type": "markdown",
   "id": "438c2883-1d4d-4d86-a204-36dc0be15af7",
   "metadata": {},
   "source": [
    "## Seznam (*list*)\n",
    "\n",
    "Seznam je abstraktni podatkovni tip, ki hrani končno zaporedje elementov. Smiseln nabor operacij, ki jih mora omogočati, je:\n",
    "- `add(x)`: Dodaj element x v seznam. Kam je dodan, je lahko stvar implementacije, ali pa je definirano že v APT.\n",
    "- `remove(x)`: Odstrani element x iz seznama.\n",
    "- `size()`: Število elementov v seznamu.\n",
    "- `traverse`: Način iteracije čez vse elemente seznama. Lahko v obliki dostopa do prvega elementa in nato vsakega naslednjika.\n",
    "\n",
    "Lahko bi definirali še marsikatero drugo operacijo: `empty()`, `contains(x)`, `get(i)`, `insert(i,x)`, ...\n",
    "\n",
    "Primeri: (C++: `list`), (Java: `List`), (Python: `list`)."
   ]
  },
  {
   "cell_type": "markdown",
   "id": "a9492d00-0b52-48a4-87de-1327b30e6d5c",
   "metadata": {},
   "source": [
    "### Dinamično polje (*dynamic/resizeable array*)\n",
    "\n",
    "Dinamično polje je podatkovna struktura, ki presega omejitve navadnega polja in omogoča dodajanje novih elementov. Kot taka je primerna za implementacijo seznama. \n",
    "\n",
    "Implementacije seznama se lahko lotimo s tabelo, kot ste navajeni iz C-ja. Vsakič, ko dodamo nek element, preverimo kapaciteto naše tabele. Če smo jo presegli, alociramo novo, za 1 večjo tabelo, skopiramo vse elemente in dodamo novega na konec. To je zelo prostorsko učinkovito, časovno pa precej potratno, saj potrebujemo za izgradnjo seznama z $n$ elementi kar $O(n^2)$ časa.\n",
    "\n",
    "Alternativa je podvojevanje velikosti seznama. Vsakič, ko dosežemo kapaciteto, alociramo novo, dvakrat večjo tabelo. Tako bomo za izgradnjo seznama dolžine $n$, potrebovali $1 + 2 + 4 + 8 + \\dots < 4n = O(n)$ operacij (oz. $2n$, če je $n$ ravno potenca števila 2). Prostorsko je nekoliko manj učinkovito, vendar še vedno reda $O(n)$. Enake računske zahtevnosti dosežemo tudi s kakšnim drugim faktorjem, ki ni nujno 2. Moramo pa velikost množiti z nekim faktorjem, ne pa ga prištevati. Spodnja implementacija prikazuje osnovno idejo.\n",
    "\n",
    "Primeri: (C++: `vector`), (Java: `ArrayList`), (Python: `list`)."
   ]
  },
  {
   "cell_type": "code",
   "execution_count": 2,
   "id": "9b60b720-33b5-4a70-8d08-4fc3ffa00a99",
   "metadata": {},
   "outputs": [],
   "source": [
    "class DynamicArray {\n",
    "private:\n",
    "    int *t, size, capacity;\n",
    "public:\n",
    "    DynamicArray() { t = (int*)malloc(sizeof(int));  size = 0; capacity = 1; }\n",
    "    ~DynamicArray() { free(t); }\n",
    "    int operator[](int i) { return t[i]; }\n",
    "    void add(int x) {\n",
    "        if (size == capacity) {\n",
    "            capacity *= 2;\n",
    "            t = (int*)realloc(t, capacity*sizeof(int));\n",
    "        }\n",
    "        t[size++] = x;\n",
    "    }\n",
    "};"
   ]
  },
  {
   "cell_type": "code",
   "execution_count": 3,
   "id": "bf3f9306-3077-42a4-b36e-6e923afcd821",
   "metadata": {},
   "outputs": [
    {
     "name": "stdout",
     "output_type": "stream",
     "text": [
      "50000\n"
     ]
    }
   ],
   "source": [
    "DynamicArray a;\n",
    "int n=100000;\n",
    "for (int i=0;i<n;i++) a.add(i);\n",
    "cout << a[n/2] << endl;"
   ]
  },
  {
   "cell_type": "markdown",
   "id": "cfe15b95-ff35-42a4-82d7-3edd93fe4ac7",
   "metadata": {},
   "source": [
    "### Povezani seznam (*linked list*)\n",
    "\n",
    "Z dinamičnim poljem smo rešili problem dodajanja elementov na konec seznama, dobili pa smo še možnost dostopa do elementov preko indeksov. Težavo pa imamo z vstavljanjem. Vstavljanje elementa na začetek ali nekam na sredino seznama, zahteva zamik vseh sledečih elementov v tabeli, kar je $O(n)$ operacija.\n",
    "\n",
    "Povezan seznam je podatkovna struktura, ki nam omogoča učinkovito vstavljanje in brisanje (preko reference na element, za katerega vstavljamo oz. ki ga brišemo). Spoznali ste ga že pri Programiranju 2. Vsako vozlišče hrani vrednost elementa in kazalec na naslednje vozlišče. Poleg tega potrebujemo še kazalec na začetek povezanega seznama. Je pa v povezanem seznamu otežen dostop preko indeksa, torej do $i$-tega elementa, in sicer zahteva $O(n)$ korakov, da se prebijemo do njega od začetka seznama.\n",
    "\n",
    "Primeri: (C++: `list`), (Java: `LinkedList`)."
   ]
  },
  {
   "cell_type": "markdown",
   "id": "4a987c1c-47f1-4a33-9522-e8714617d352",
   "metadata": {},
   "source": [
    "### Preskočni seznam (*skip list*)\n",
    "\n",
    "Zanimiva podatkovna struktura je preskočni seznam, ki se trudi združiti prednosti polja in povezanega seznama. Pravzaprav gre za povezan seznam z dodatnimi (preskočnimi) povezavami, ki predstavljajo bližnjice in omogočajo hitrejše skakanje po seznamu.\n",
    "\n",
    "Običajno se uporablja za hranjenje *urejenega seznama* elementov oz. v našem primeru celih števil. Če bi uporabili polje za hrambo urejenega seznama, imamo težavo pri vrivanju novega števila, ker moramo vse zamakniti. Če bi uporabili povezan seznam, pa imamo težavo pri iskanju mesta za vrivanje, ker ne moremo delati bisekcije po indeksih. Preskočni seznam združuje prednosti obeh alternativ za majhno ceno.\n",
    "\n",
    "![Preskočni seznam (wikipedia)](https://upload.wikimedia.org/wikipedia/commons/8/86/Skip_list.svg)\n",
    "\n",
    "Zgornja slika prikazuje strukturo preskočnega seznama. Vsako vozlišče ima svojo \"višino\", ki je izbrana **naključno**. Vsak nov nivo pa je dodan z verjetnostjo $p$, ki je običanjo kar $1/2$. Nivoji so med seboj povezani v več povezanih seznamov. Tako se lahko pri iskanju elementa najprej premikamo po najvišjem nivoju, kjer delamo največje skoke. Nato se spustimo en nivo nižje in najdaljujemo tam, itd.\n",
    "\n",
    "Verjetnost, da ima element višino $h \\geq 1$ je $p^{h-1}$. Na prvem nivoju je vseh $n$ elementov, na drugem jih pričakujemo samo še $n/2$, na tretjem $n/4$ itd. Smiselno je torej imeti $O(\\log n)$ nivojev. Pričakovana prostorska zahtevnost je linearna $O(n)$, ker velja $n+n/2+n/4+... < 2n$. Recimo, da imamo naključno zgrajen preskočni seznam z $n$ elementi in želimo vanj vstaviti nov element oz. ga poiskati. Kakšna je pričakovana časovna zahtevnost te operacije? Razmislimo o pričakovanem številu skokov na posameznem nivoju. Če se od elementa premikamo v obratni smeri iskanja, se bomo premaknili nazaj do prvega večjega elementa. Vsak element na tem nivoju je večji z verjetnostjo $p$, pričakovano število korakov, da naletimo na večjega, pa je $1/p$ oz. v našem primeru kar 2. Pričakovana časovna zahtevnost vstavljanja ali iskanja posameznega elementa je torej $O(\\log n)$."
   ]
  },
  {
   "cell_type": "code",
   "execution_count": 4,
   "id": "ef779288-bdba-4fda-89d4-93499a1128fd",
   "metadata": {},
   "outputs": [],
   "source": [
    "class SkipNode {\n",
    "public:\n",
    "    int value, height;\n",
    "    vector<SkipNode*> next;\n",
    "    SkipNode(int _value, int _height) : value(_value), height(_height) { \n",
    "        next.resize(height);\n",
    "    }\n",
    "};"
   ]
  },
  {
   "cell_type": "code",
   "execution_count": 5,
   "id": "09e243b8-ed2d-4ab9-9164-0793a00cbf22",
   "metadata": {},
   "outputs": [],
   "source": [
    "class SkipList {\n",
    "private:\n",
    "    int max_height;\n",
    "    SkipNode *head;\n",
    "    default_random_engine rnd;\n",
    "public:\n",
    "    SkipList() : max_height(20) { \n",
    "        head = new SkipNode(-1, max_height);\n",
    "        rnd = default_random_engine(123);\n",
    "    }\n",
    "    ~SkipList() {  delete head; }\n",
    "\n",
    "    bool contains(int x) {\n",
    "        SkipNode *node = head;\n",
    "        for (int h=max_height-1;h>=0;h--) {\n",
    "            while (node->next[h] != NULL && node->next[h]->value < x) node = node->next[h];\n",
    "        }\n",
    "        return node->next[0] != NULL && node->next[0]->value == x;\n",
    "    }\n",
    "\n",
    "    void insert(int x) {\n",
    "        int height = 1;\n",
    "        while (height<max_height && rnd()%2==0) height++;\n",
    "        SkipNode *new_node = new SkipNode(x, height);\n",
    "        SkipNode *node = head;\n",
    "        for (int h=max_height-1;h>=0;h--) {\n",
    "            while (node->next[h] != NULL && node->next[h]->value < x) node = node->next[h];\n",
    "            if (h<height) {\n",
    "                new_node->next[h] = node->next[h];\n",
    "                node->next[h] = new_node;\n",
    "            }\n",
    "        }\n",
    "    }\n",
    "};"
   ]
  },
  {
   "cell_type": "markdown",
   "id": "d7034c51-3b4e-4d2a-a23d-9a4b7866932b",
   "metadata": {},
   "source": [
    "Testirajmo pravilnost in učinkovitost implementacije na primeru vstavljanja $n$ naključnih celih števil z intervala $[0,n-1]$. Na koncu pa preštejmo, koliko različnih števil imamo v seznamu. Zanimiva vaja iz verjetnosti je izračunati, da je pričakovano število približno 63% oz. natančneje $(1-1/e)$."
   ]
  },
  {
   "cell_type": "code",
   "execution_count": 6,
   "id": "de9e586e-5195-4df6-afca-36c0fe7f27eb",
   "metadata": {},
   "outputs": [
    {
     "name": "stdout",
     "output_type": "stream",
     "text": [
      "razlicnih: 63307\n"
     ]
    }
   ],
   "source": [
    "SkipList sl;\n",
    "int n=100'000, st=0;\n",
    "default_random_engine rnd(123);\n",
    "for (int i=0;i<n;i++) sl.insert(rnd()%n);\n",
    "for (int i=0;i<n;i++) st+=sl.contains(i);\n",
    "cout << \"razlicnih: \" << st << endl;"
   ]
  },
  {
   "cell_type": "markdown",
   "id": "c7e1503e-f4a5-4684-8af5-5b1764d6f6d3",
   "metadata": {},
   "source": [
    "## Sklad (*stack*)\n",
    "\n",
    "TODO"
   ]
  },
  {
   "cell_type": "markdown",
   "id": "e459f429-6904-4cbe-9d77-380edc4aacbe",
   "metadata": {},
   "source": [
    "## Vrsta (*queue*)\n",
    "\n",
    "TODO"
   ]
  },
  {
   "cell_type": "markdown",
   "id": "cfebd3ef-ec50-44cb-aa39-2d4c2a2b59aa",
   "metadata": {},
   "source": [
    "S krožno tabelo"
   ]
  },
  {
   "cell_type": "markdown",
   "id": "d8f3b40f-8b4d-4e13-a95e-53de50da096f",
   "metadata": {},
   "source": [
    "S skladom"
   ]
  },
  {
   "cell_type": "markdown",
   "id": "4968d35a-7957-4d0d-a332-226b35c26a6d",
   "metadata": {},
   "source": [
    "### Dvostrana vrsta (*deque*)\n",
    "\n",
    "TODO"
   ]
  },
  {
   "cell_type": "markdown",
   "id": "5b2e12d7-c439-4639-a22e-12eef97b8389",
   "metadata": {},
   "source": [
    "## Vrsta s prednostjo (*priority queue*)\n",
    "\n",
    "TODO prioritetna vrsta"
   ]
  },
  {
   "cell_type": "markdown",
   "id": "ab1ee72a-31c6-4e33-b044-cbf68306b07b",
   "metadata": {},
   "source": [
    "### Kopica\n",
    "\n",
    "Dvojiška kopica"
   ]
  },
  {
   "cell_type": "markdown",
   "id": "ab141cd0-5a75-4777-8677-eb5e0b4344f5",
   "metadata": {},
   "source": [
    "## Množica\n",
    "\n",
    "TODO"
   ]
  },
  {
   "cell_type": "markdown",
   "id": "10c2a4b1-241f-4390-9788-df8fcb36a01c",
   "metadata": {},
   "source": [
    "S seznamom"
   ]
  },
  {
   "cell_type": "markdown",
   "id": "0a2099e7-97ad-4b72-b951-802ff4b2fea9",
   "metadata": {},
   "source": [
    "### Razpršena tabela\n",
    "\n",
    "Razpršena/zgoščena tabela"
   ]
  },
  {
   "cell_type": "markdown",
   "id": "cfb59721-0bdc-4097-b392-d35cba976dad",
   "metadata": {},
   "source": [
    "## Slovar\n",
    "\n",
    "TODO"
   ]
  },
  {
   "cell_type": "code",
   "execution_count": null,
   "id": "0894f744-0f53-4167-8564-88c2ec18ba79",
   "metadata": {},
   "outputs": [],
   "source": []
  }
 ],
 "metadata": {
  "kernelspec": {
   "display_name": "C++17",
   "language": "C++17",
   "name": "xcpp17"
  },
  "language_info": {
   "codemirror_mode": "text/x-c++src",
   "file_extension": ".cpp",
   "mimetype": "text/x-c++src",
   "name": "c++",
   "version": "17"
  }
 },
 "nbformat": 4,
 "nbformat_minor": 5
}
