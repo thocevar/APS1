{
 "cells": [
  {
   "cell_type": "markdown",
   "id": "24915894-3e30-4bab-8a3f-3d9943c7042b",
   "metadata": {},
   "source": [
    "# Deli in vladaj\n",
    "\n",
    "Pristop deli in vladaj (*Divide and Conquer*) smo že srečali pri dvojiškem iskanju, hitrem urejanju (*quick sort*) in urejanju z zlivanjem (*merge sort*). Gre za preprosto idejo, da problem razdelimo na več manjših podproblemov, te rešimo rekurzivno po enakem postopku, nato pa združimo dobljene rezultate manjših problemov v rešitev večjega problema. Umetnost pa je v podrobnostih, kako razbiti problem in kako združevati rešitve, da bo celoten postopek res učinkovit.\n",
    "\n",
    "Oglejmo si to na primeru računanja vsote seznama, ki vsebuje $n$ števil. Seznam razbijemo na levo in desno polovico, rekurzivno izračunamo njuni vsoti, ter ju nato preprosto seštejemo. Enostavno. Kaj pa učinkovito? Navadno seštevanje v zanki ima časovnost zahtevnost $O(n)$. Če smo ustvarjali nove kopije za levo in desno polovico, je ta rešitev pravzaprav slabša, ker ima časovno zahtevnost $O(n \\log n)$. Če smo za podsezname uporabljali indekse, pa tudi nismo nič na boljšem. Časovna zahtevnost je še vedno $O(n)$, samo vrstni red seštevanja elementov se je spremenil.\n",
    "\n",
    "Omenimo nekaj klasičnih primerov algoritmov, ki temeljijo na pristopu deli in vladaj, vendar jih v okviru APS1 ne bomo utegnili obravnavati:\n",
    "\n",
    "- množenje velikih števil (Karatsuba, FFT)\n",
    "- množenje matrik (Strassen),\n",
    "- najbližji par točk v ravnini\n",
    "- konveksna ovojnica"
   ]
  },
  {
   "cell_type": "markdown",
   "id": "41ed273a-c019-4f8d-bf89-aa4a8f25f72c",
   "metadata": {},
   "source": [
    "## Krovni izrek\n",
    "\n",
    "Običajno razbijemo problem velikosti $n$ na podprobleme velikosti $n/b$. Rekurzivno moramo rešiti $a$ takih podproblemov. Običajno je $a \\leq b$, ni pa nujno. Poleg tega pa za razbitje in združevanje rešitev potrebujemo $f(n)$ operacij:\n",
    "\n",
    "- dvojiško iskanje: $b=2, a=1, f(n)=O(1)$\n",
    "- quick/merge sort: $b=2, a=2, f(n)=O(n)$\n",
    "\n",
    "Za izračun števila operacij imamo torej rekuzivno formulo $T(n) = a T(n/b) + f(n)$, pri čemer je $T(n)=O(1)$ za dovolj majhen $n$. Števili $a$ in $b$ sta konstanti, ki nista odvisni od $n$-ja. Gre za družino rekurzivnih funkcij, za katere nam krovni izrek (tudi mojstrova metoda) v določenih primerih navaja rešitve.\n",
    "\n",
    "Primera $b=2, a=1$ in $b=2, a=2$ smo že analizirali. Oglejmo si še primer $b=2, a=4$ za npr. $n=8$.\n",
    "\n",
    "- Na začetnem (ničtem) nivoju imamo 1 problem velikosti $n$.\n",
    "- Na prvem nivoju dobimo $a$ problemov velikosti $n/b$.\n",
    "- Na $i$-tem imamo $a^i$ problemov velikosti $n/b^i$.\n",
    "\n",
    "Število nivojev je $\\log_b n$, torej je listov tega rekurzivnega drevesa $a^{\\log_b n} = n^{\\log_b a}$. Eksponent označimo z $c = \\log_b a$, ker bo pomemben v nadaljevanju.\n",
    "\n",
    "Če je funkcija količine dela na posameznem nivoju $f(n)$ dovolj majhna, predstavlja velikost rekurzivnega drevesa glavni del števila izvedenih operacij, čas $f(n)$ pa je zanemarljiv. Če pa je količina dela $f(n)$ dovolj velika funkcija, je glavnina operacij izvedena na začetnem nivoju v korenu, ker problem nato razpade na manjše podprobleme, ki imajo \"zanemarljivo\" majhno količino dela v primerjavi s korenom.\n",
    "\n",
    "Za običajni konstanti $b=2, a=2$ si oglejmo nekaj primerov funkcije $f(n)$.\n",
    "\n",
    "- $f(n) = \\log n: \\quad$ V korenu imamo $\\log n$ dela, v obeh otrocih $\\log n/2$, ... Naj bo $L=\\log n$. Skupno delo je $\\sum_{x=0}^L 2^x \\log(n/2^x) = \\sum_{x=0}^L 2^x (L - x)$. Z nekaj matematične spretnosti (odvod delnih vsot geometrijske vrste) to poenostavimo v $2^{L+1} -L -2 = 2n - \\log n - 2 = O(n)$. Tu prevladuje velikost rekurzivnega drevesa.\n",
    "- $f(n) = n: \\quad$ Tega že poznamo. Imamo $\\log n$ nivojev in na vsakem nivoju $n$ dela, skupaj torej $O(n \\log n)$.\n",
    "- $f(n) = n^2: \\quad$ V korenu imamo $n^2$ dela, v otrocih $2(n/2)^2 = 1/2 n^2$, v vnukih $4(n/4)^2 = 1/4 n^2$. Vsota je $O(n^2)$, ker prevladuje delo v korenu.\n",
    "\n",
    "**Krovni izrek (*master theorem*)** nam poda rešitve rekurzivne enačbe $T(n) = a T(n/b) + f(n)$ pri konstantah $a \\geq 1, b \\gt 1$ za tri skupine enačb glede na razmerje med $c = \\log_b a$ in funkcijo $f(n)$. Velikostni red funkcije $f(n)$ bomo primerjali z $n^c$ in ločili tri primere.\n",
    "\n",
    "1. $f(n) = O(n^{c-\\epsilon}) \\quad \\Rightarrow \\quad T(n) = \\Theta(n^c)$  \n",
    "   Če je čas za združevaje \"manjši\" od $n^c$, je velikost rekurzivnega drevesa ($n^c$) prevladujoča vrednost.\n",
    "\n",
    "2. $f(n)=\\Theta(n^{c}) \\quad \\Rightarrow \\quad T(n) = \\Theta(n^{c}\\log n)$  \n",
    "   Če sta vrednosti \"enaki\", dobimo dodaten logaritemski faktor. Obstaja še natančnejša formulacija tega primera:  \n",
    "   $f(n)=\\Theta(n^{c}\\log^{k}n), k \\geq 0 \\quad \\Rightarrow \\quad T(n) = \\Theta(n^{c}\\log ^{k+1}n)$\n",
    "   \n",
    "3. $f(n) = \\Omega(n^{c+\\epsilon}) \\quad \\Rightarrow \\quad T(n) = \\Theta(f(n))$  \n",
    "   Če je čas za združevanje \"večji\", je to prevladujoča vrednost. Ta primer zahteva še dodaten pogoj regularnosti, ki pravi, da je količina dela v vozlišču vsaj tako velika kot količina dela v otrocih (kar je skoraj vedno res): $a f(n/b) \\leq k f(n)$ za dovolj velike $n$-je in nek $k < 1$.\n",
    "\n",
    "Oglejmo si nekaj primerov razpolavljanja z $b=2$:\n",
    "\n",
    "- $a=2, f(n)=1$ (rekurzivno seštevanje): $\\quad c=1$, velja 1. primer, zato je $T(n) = O(n)$\n",
    "- $a=2, f(n)=\\log n$: $\\quad c=1$, velja 1. primer, zato je $T(n) = O(n)$\n",
    "- $a=3, f(n)=n$ (Karatsuba): $\\quad c \\approx 1.6$, velja 1. primer, zato je $T(n) = O(n^{1.6})$.\n",
    "- $a=1, f(n)=1$ (dvojiško iskanje): $\\quad c=0$, velja 2. primer, zato je $T(n) = O(\\log n)$.\n",
    "- $a=2, f(n)=n$ (quick/merge sort): $\\quad c=1$, velja 2. primer, zato je $T(n) = O(n \\log n)$.\n",
    "- $a=2, f(n)=2^n$: $\\quad c=1$, velja 3. primer, zato je $T(n) = 2^n$.\n",
    "\n",
    "Primeri, kjer si ne moremo pomagati s krovnim izrekom:\n",
    "\n",
    "- $T(n) = 1/2\\,T(n/4) + n:\\quad$ $a < 1$ nima smisla, rešujemo pol problema velikosti $n/4$?\n",
    "- $T(n) = 2\\,T(n/1) + n:\\quad$ $b = 1$, zato se problem sploh ne zmanjšuje.\n",
    "- $T(n) = 3\\,T(n/2) − n^2:\\quad$ Delo $f(n)$ ne more biti negativno.\n",
    "- $T(n) = n/2\\,T(n/2) + n:\\quad$ $a=n/2$ ni konstanta.\n",
    "- $T(n) = 2\\,T(n/2) + n/\\log\\log{n}:\\quad$ Tega ne pokriva noben izmed treh primerov ($n/\\log\\log{n} \\neq O(n^{0.999\\ldots})$, da bi veljal prvi primer).\n",
    "\n",
    "Posplošitev krovnega izreka na primere, kjer imamo opravka s podproblemi različnih velikosti (niso vsi enako veliki $n/b$), je znana kot Akra-Bazzi metoda."
   ]
  },
  {
   "cell_type": "markdown",
   "id": "5100fe10-e773-4ec5-a128-e9145a344d52",
   "metadata": {},
   "source": [
    "## Primeri nalog\n",
    "\n",
    "Sedaj smo opremljeni s teorijo pristopa deli in vladaj, ki jo v nadaljevanju poskusimo uporabiti na nekaj primerih."
   ]
  },
  {
   "cell_type": "code",
   "execution_count": 1,
   "id": "61445fd3-01fd-47ef-b525-b67038ffebc8",
   "metadata": {},
   "outputs": [],
   "source": [
    "#include <iostream>\n",
    "#include <vector>\n",
    "using namespace std;"
   ]
  },
  {
   "cell_type": "code",
   "execution_count": 2,
   "id": "8ae00ec1-61ac-4814-9e29-2cd67e24de9e",
   "metadata": {},
   "outputs": [],
   "source": [
    "template<typename T>\n",
    "void print(const vector<T> &s) {\n",
    "    for (T x : s) cout << x << \" \";\n",
    "    cout << endl;\n",
    "}"
   ]
  },
  {
   "cell_type": "markdown",
   "id": "d0a8c255-97fa-4c2c-bdb2-250416a5a0bf",
   "metadata": {},
   "source": [
    "### Potenciranje\n",
    "\n",
    "Izračunati želimo potenco $x^n$. Pri tem predpostavimo, da lahko množimo poljubno velika števila v konstantnem času (kar seveda ni res). Ali pa izračunajmo rešitev po nekem modulu $M$ (v kolobarju ostankov), kjer lahko pri seštevanju in množenju sproti računamo z ostanki.\n",
    "\n",
    "Če je $n$ sod, bi nam prišla prav potenca $p = x^{n/2}$. Iskani rezultat je ravno $p^2$. Če pa je $n$ lih, mu odštejemo 1 (in množimo rezultat z $n$) ter tako pridemo do sodega primera. Obakrat smo s konstantnim številom operacij razpolovili velikost problema, zato je časovna zahtevnost $O(\\log n)$, za kar nam niti ni treba komplicirati s krovnim izrekom. Postopek se imenuje **potenciranje s kvadriranjem** (*exponentiation by squaring*)."
   ]
  },
  {
   "cell_type": "code",
   "execution_count": 3,
   "id": "da7f96fc-6c03-435c-8d3e-597fac90f1e8",
   "metadata": {},
   "outputs": [],
   "source": [
    "int potenca(int x, int n) {\n",
    "    if (n==0) return 1;\n",
    "    if (n%2==0) {\n",
    "        //return potenca(x, n/2) * potenca(x, n/2);  // narobe! ... O(n)\n",
    "        int p = potenca(x, n/2);\n",
    "        return p*p;\n",
    "    } else {\n",
    "        return x*potenca(x, n-1);\n",
    "    }\n",
    "}"
   ]
  },
  {
   "cell_type": "code",
   "execution_count": 4,
   "id": "dfea88d8-d43b-4287-bf03-86b3ee611ab9",
   "metadata": {},
   "outputs": [
    {
     "name": "stdout",
     "output_type": "stream",
     "text": [
      "1024\n"
     ]
    }
   ],
   "source": [
    "cout << potenca(2,10) << endl;"
   ]
  },
  {
   "cell_type": "markdown",
   "id": "75003233-cd10-4593-863b-1c760bd1d03c",
   "metadata": {},
   "source": [
    "Pozorni moramo biti, da ne računamo vrednosti `potenca(x, n/2)` dvakrat. V tem primeru bi bila časovna zahtevnost $O(n)$, kar ni nič boljše od zaporednega množenja. Vrednost izračunamo enkrat in jo nato kvadriramo."
   ]
  },
  {
   "cell_type": "markdown",
   "id": "d4393802-6efe-48e5-890a-5556ef5c7b3b",
   "metadata": {},
   "source": [
    "### Enakomerno razbitje seznama\n",
    "\n",
    "Podan imamo seznam $n$ števil $a_1, a_2, \\ldots, a_n$ z vsoto $V=\\sum_1^n a_i$, ki ga želimo razbiti na $k$ strnjenih podseznamov (ki so lahko tudi prazni). Želimo si, da je razbitje tako, da so si vsote podseznamov čim bolj podobne. Idealno bi bilo, če bi imel vsak podseznam vsoto $V/k$, vendar to ni vedno mogoče. Odločili smo se, da bomo to dosegli tako, da bomo zahtevali, da je največja vsota $v$ posameznega podseznama čim manjša (minimiziramo maksimalno vsoto). Kakšno je optimalno razbitje?\n",
    "\n",
    "Za primer vzemimo seznam `12, 8, 3, 5, 4, 13, 5, 3, 7` in $k=3$. Vsota je 60, zato bi bilo idealno, če bi naredili skupine po 20. Prva dva elementa se ravno seštejeta v 20, zato bi ju bilo smiselno dati v svojo skupino. Potem nam ostane še dilema glede meje med drugo in tretjo skupino, kjer lahko preizkusimo obe meji okoli vsote 20. Smo s tem požrešnim razmislekom prišli do optimalne rešitve? Nismo. Prvo skupino se splača podaljšati, da pride do lepše delitve med drugo in tretjo. Optimalno razbitje je `(12, 8, 3), (5, 4, 13), (5, 3, 7)`, kjer so vsote 23, 22 in 15.\n",
    "\n",
    "Pogosto so odločitveni problemi lažji od optimizacijskih. Je neka konkretna meja $v$ sprejemljiva? Ali obstaja razbitje na $k$ kosov, katerih vsota ne presega $v$? Večja kot je meja za vsoto, lažji je problem. Če obstaja razbitje z mejno vsoto $v$, obstaja tudi pri meji $v+1$ (veljavno je isto razbitje). In obratno, če pri meji $v$ ne obstaja, potem ne obstaja tudi pri $v-1$. Iščemo mejo med situacijama, kjer razbijte še obstaja in kjer ne. To lahko poiščemo z dvojiškim iskanjem. Pravzaprav delamo dvojiško iskanje po možnih rešitvah $v$ in preverjamo, ali so sprejemljive.\n",
    "\n",
    "Kako ugotovimo, ali obstaja veljavno razbitje pri neki mejni vsoti $v$? Poiskali bomo razbitje s čim manj kosi, ki ne presegajo vsote $v$ (vedno lahko dodamo kakšnega praznega, da jih bo točno $k$). Tega se lahko lotimo na požrešen način. Prvi kos naj bo največja predpona seznama, ki še ne preseže vsote $v$. To bo vedno vodilo do neke optimalne rešitve. Recimo, da ne bi, in bi moral biti prvi kos krajši (daljši očitno ne more biti). Potem bi lahko v tej predpostavljeni optimalni rešitvi premaknili nekaj elementov iz drugega kosa v prvega. Vemo, da je v prvem kosu še prostor, z zmanjševanjem drugega kosa pa tudi ne pokvarimo rešitve. Požrešno strategijo lahko torej uporabimo za določanje vsakega kosa znova. Če s tem nismo presegli $k$ kosov, je mejna vsota $v$ sprejemljiva, sicer pa ne.\n",
    "\n",
    "Razmislimo še o časovni zahtevnosti opisanega postopka. Za dvojiško iskanje meje $v$ bomo potrebovali $O(\\log V)$ korakov. Za določanje sprejemljivosti posamezne meje pa $O(n)$. To je skupaj $O(n \\log V)$. Če imamo podano omejitev velikosti posameznih števil v seznamu, npr. $a_i \\leq m$, je $V \\leq nm$ in lahko časovno zahtevnost zapišemo kot $O(n \\log(nm)) = O(n(\\log n + \\log m))$."
   ]
  },
  {
   "cell_type": "code",
   "execution_count": 5,
   "id": "816f19d6-7124-44a5-89b9-36f8638576c6",
   "metadata": {},
   "outputs": [],
   "source": [
    "int partition(vector<int> a, int k) {\n",
    "    int total=0, largest=0;\n",
    "    for (int x : a) {\n",
    "        total+=x;\n",
    "        largest = max(largest, x);\n",
    "    }\n",
    "    int lo=largest-1, hi=total;  // lo=infeasible, hi=feasible\n",
    "    while (lo+1<hi) {\n",
    "        int lim=(lo+hi)/2;\n",
    "        int sum=0, chunks=1;\n",
    "        for (int x : a) {\n",
    "            if (sum+x<=lim) sum+=x;  // extend last chunk\n",
    "            else { chunks++; sum=x; }  // start new chunk\n",
    "        }\n",
    "        if (chunks<=k) hi=lim;\n",
    "        else lo=lim;\n",
    "    }\n",
    "    return hi;\n",
    "}"
   ]
  },
  {
   "cell_type": "code",
   "execution_count": 6,
   "id": "5b8b4302-8fc7-485e-84d1-9ff9fd9ac3ff",
   "metadata": {},
   "outputs": [
    {
     "name": "stdout",
     "output_type": "stream",
     "text": [
      "23\n",
      "1: 60\n",
      "2: 32\n",
      "3: 23\n",
      "4: 17\n",
      "5: 15\n",
      "6: 13\n",
      "7: 13\n",
      "8: 13\n",
      "9: 13\n"
     ]
    }
   ],
   "source": [
    "vector<int> a={12,8,3,5,4,13,5,3,7};\n",
    "cout << partition(a, 3) << endl;\n",
    "for (int k=1;k<=a.size();k++) {\n",
    "    cout << k << \": \" << partition(a, k) << endl;\n",
    "}"
   ]
  },
  {
   "cell_type": "markdown",
   "id": "a5932c5f-9ecb-4b1f-8b93-05de69c90395",
   "metadata": {},
   "source": [
    "### K-ti element\n",
    "\n",
    "V problemu izbire k-tega elementa (*selection problem*) imamo podan (neurejen) seznam $n$ števil $a_1, a_2, \\ldots, a_n$. Zanima nas, katero število je $k$-to po velikosti oz. bi bilo na $k$-tem mestu, če bi seznam uredili.\n",
    "\n",
    "Seznam lahko uredimo in preverimo, kateri element konča na $k$-tem mestu. Časovna zahtevnost je odvisna od časa urejanja in je v splošnem $O(n \\log n)$. Smo lahko kaj bolj učinkoviti? Vsakakor moramo preveriti vseh $n$ elementov, morda pa lahko izboljšamo faktor $\\log n$.\n",
    "\n",
    "Lahko bi vzdrževali samo seznam najmanjših $k$ elementov. Če je $k$ bistveno manjši od $n$-ja, bi bila taka rešitev bolj učinkovita. Trenutno najmanjše elemente bi namesto v seznamu hranili urejene v max-kopici. Vsakič bi v kopico dodali nov element in izločili največjega iz kopice, ter tako vzdrževali najmanjših $k$ elementov. Ker velikost kopice ne bi presegla $k$, bi bila časovna zahtevnost $O(n \\log k)$.\n",
    "\n",
    "Še hitrejša rešitev uporablja podoben prostopa kot pri hitrem urejanju (*quick sort*). Zato se algoritmu, ki ga bomo opisali, reče **hitro izbiranje** (*quick select*). Izbrali bomo delilni element (*pivot*) in razdelili števila na manjša (ali enaka) in večja. Naj bo manjših števil $m$. Če je $k<=m$, moramo $k$-tega iskati med manjšimi. Sicer pa moramo med večjimi poiskati $(k-m)$-tega.\n",
    "\n",
    "Ob predpostavki, da nam seznami razpadajo na prbiližno enako velike skupine, bo pričakovana časovna zahtevnost $O(n + n/2 + n/4 + \\ldots) = O(n)$. S tem se strinja tudi krovni izrek pri $b=2, a=1, f(n)=n$ (3. primer).\n",
    "\n",
    "V C++ je ta funkcionalnost že na voljo kot funkcija `nth_element` iz knjižnice `algorithm`, ki delno uredi seznam tako, da je n-ti element na pravem mestu, pred njim so samo manjši ali enaki elementi, za njim pa večji ali enaki."
   ]
  },
  {
   "cell_type": "code",
   "execution_count": 7,
   "id": "7794146a-f86b-4529-b1c9-596964b4b2df",
   "metadata": {},
   "outputs": [
    {
     "name": "stdout",
     "output_type": "stream",
     "text": [
      "2 1 1 2 3 5 3 5 8 10 8 \n",
      "1 1 2 2 3 3 5 5 8 8 10 \n"
     ]
    }
   ],
   "source": [
    "vector<int> v = {3,5,2,8,1,10,2,3,8,5,1};\n",
    "nth_element(v.begin(), v.begin()+4, v.end());\n",
    "print(v);\n",
    "sort(v.begin(),v.end());\n",
    "print(v);"
   ]
  },
  {
   "cell_type": "markdown",
   "id": "64f1b1fc-8fee-47f3-8824-b64a242e82c4",
   "metadata": {},
   "source": [
    "### Štetje inverzij\n",
    "\n",
    "V seznamu $n$ števil $a_1, a_2, \\ldots, a_n$ je inverzija par indeksov $i$ in $j$ ($i<j$), za kateri velja, da sta pripadajoči števili v seznamu narobe urejeni ($a_i > a_j$). Zanima nas, koliko inverzij vsebuje podani seznam? Seveda lahko preverimo vse pare indeksov, vendar ima to kvadratno časovno zahtevnost. \n",
    "\n",
    "Prilagodili bomo algoritem urejanja z zlivanjem (merge sort). Poleg urejanja podseznamov naj funkcija izračuna še število inverzij v njem (pred urejanjem). Recimo, da smo seznam razbili na levo in desno polovico, ter rekurzivno rešili manjša problema. S tem smo dobili število inverzij v levi polovici in urejeno levo polovico, ter enako za desno polovico. Urejeni polovici znamo zliti v urejeno celoto. Kaj pa inverzije?\n",
    "\n",
    "Inverzije v levi in desni polovici seštejemo, vendar nam manjkajo še tiste inverzije, kjer je eno število v levi, drugo pa v desni polovici. Za vsako število $x$ iz leve polovice bomo izračunali število inverzij, v katerih nastopa - koliko je v desni polovici manjših števil od $x$? To lahko učinkovito izračunamo med zlivanjem obeh polovic. Recimo, da smo že zlili $l$ števil iz leve polovice in $d$ iz desne ter je naslednje na vrsti število $x$ iz leve polovice. Pred njim je v zlitem urejenem seznamu že $d$ manjših števil iz desne polovice, s katerimi je formiral inverzije in jih prištejemo k rezultatu."
   ]
  },
  {
   "cell_type": "markdown",
   "id": "772fa8e1-fb77-4716-afbd-f5f8fcd4e0da",
   "metadata": {},
   "source": [
    "### Podseznam z največjo vsoto\n",
    "\n",
    "Podan imamo seznam oz. tabelo $A$ z $n$ pozitivnimi in negativnimi števili. Zanima nas, kakšna je največja vsota strnjenega podseznama v njem $A_i + A_{i+1} + ... + A_j$ (*maximum subarray problem*). Za ta problem poznamo tudi druge (enostavnejše) rešitve, vendar si oglejmo pristop s tehniko deli in vladaj.\n",
    "\n",
    "Seznam razbijemo na levo in desno polovico. Za vsak del izračunamo odgovor - največjo vsoto podseznama v njem. Če bi kot rezultat vzeli večjega od njiju, bi zgrešili rešitve, ki se raztezajo čez sredinsko mejo med polovicama. Poleg izračunanih rezultatov za podseznama moramo torej upoštevati tudi rezultate, ki vključujejo dele obeh polovic. Preverimo lahko vsote vseh možnih parov pripon leve polovice in predpon desne polovice. Časovna zahtevnost bo $O(n^2)$, v kar se lahko prepričate s krovnim izrekom ($a=2, b=2, c=\\log_b a=1, f(n)=n^2$) ali z malo analize. To je enako slabo kot rešitev s preiskovanjem vseh možnih strnjenih podseznamov.\n",
    "\n",
    "Z malo razmisleka lahko enostavno zmanjšamo število preverjenih parov pripon in predpon. Edina relevantna pripona leve polovice bo namreč tista z največjo vsoto. Enako velja za predpono desne polovice. To lahko poiščemo v linearnem času ($f(n)=n$), s čimer dobimo rešitev s časovno zahtevnostjo $O(n\\log n)$.\n",
    "\n",
    "Tudi to lahko še izboljšamo. Namesto, da vsakič znova računamo najboljšo pripono in predpono, lahko to vrednost vrne rešitev podproblema. Problem torej nekoliko **razširimo** in zahtevamo, da algoritem za dani podproblem vrne največjo strnjeno vsoto ($\\text{sol}$), največjo predpono ($\\text{pre}$) in največo pripono ($\\text{suf}$). Za učinkovito računanje največjih predpon in pripon nam bo prav prišla tudi vsota celotnega seznama ($\\text{sum}$).\n",
    "\n",
    "- $\\text{sol} = \\max(\\text{sol}_L, \\text{sol}_R, \\text{suf}_L+\\text{pre}_R)$\n",
    "- $\\text{pre} = \\max(\\text{pre}_L, \\text{sum}_L+\\text{pre}_R)$\n",
    "- $\\text{suf} = \\max(\\text{suf}_R, \\text{suf}_L+\\text{sum}_R)$\n",
    "- $\\text{sum} = \\text{sum}_L + \\text{sum}_R$\n",
    "\n",
    "Tako lahko rešitve podproblemov združimo v konstantnem času $f(n)=1$. Časovna zahtevnost je zato samo še $O(n)$."
   ]
  },
  {
   "cell_type": "code",
   "execution_count": 9,
   "id": "d6eeb2b0-017c-49d9-90d3-01df7ddbfad8",
   "metadata": {},
   "outputs": [],
   "source": [
    "struct Result {\n",
    "\tint max, prefix, suffix, sum;\n",
    "};"
   ]
  },
  {
   "cell_type": "code",
   "execution_count": null,
   "id": "cb638b6f-ae1c-4c18-91c9-9286fcecadce",
   "metadata": {},
   "outputs": [],
   "source": [
    "Result max_array(vector<int> a) {\n",
    "    int n=a.size();\n",
    "    if (n==1) return (Result){max(a[0],0),max(a[0],0),max(a[0],0),a[0]};\n",
    "    vector<int> left(a.begin(),a.begin()+n/2);\n",
    "    vector<int> right(a.begin()+n/2,a.end());\n",
    "    Result resL = max_array(left);\n",
    "    Result resR = max_array(right);\n",
    "    Result res;\n",
    "    res.max = max({resL.max, resR.max, resL.suffix+resR.prefix});\n",
    "    res.prefix = max(resL.prefix, resL.sum+resR.prefix);\n",
    "    res.suffix = max(resR.suffix, resL.suffix+resR.sum);\n",
    "    res.sum = resL.sum + resR.sum;\n",
    "    return res;\n",
    "}"
   ]
  },
  {
   "cell_type": "code",
   "execution_count": 11,
   "id": "40c01b4e-9b3d-4220-a194-b02dc6f863d9",
   "metadata": {},
   "outputs": [
    {
     "name": "stdout",
     "output_type": "stream",
     "text": [
      "14\n"
     ]
    }
   ],
   "source": [
    "vector<int> a = {2,-1,-2,3,7,-2,1,5,-6,4};\n",
    "Result res = max_array(a);\n",
    "cout << res.max << endl;"
   ]
  },
  {
   "cell_type": "markdown",
   "id": "5856d6c5-5a69-43e9-bbab-94fc7c6f60ad",
   "metadata": {
    "jp-MarkdownHeadingCollapsed": true
   },
   "source": [
    "Za konec še dve razširitvi problema v razmislek:\n",
    "\n",
    "- Kako bi dopolnili rešitev, da bi vrnila tudi indeksa $i$ in $j$, ki definirata podseznam z največjo vsoto?\n",
    "- Kako bi omogočili učinkovito spreminjanje posameznih vrednosti v tabeli in ob vsaki spremembi vrnili iskano največjo vsoto?"
   ]
  }
 ],
 "metadata": {
  "kernelspec": {
   "display_name": "C++17",
   "language": "C++17",
   "name": "xcpp17"
  },
  "language_info": {
   "codemirror_mode": "text/x-c++src",
   "file_extension": ".cpp",
   "mimetype": "text/x-c++src",
   "name": "c++",
   "version": "17"
  }
 },
 "nbformat": 4,
 "nbformat_minor": 5
}
