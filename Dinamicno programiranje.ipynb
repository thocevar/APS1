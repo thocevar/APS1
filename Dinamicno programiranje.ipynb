{
 "cells": [
  {
   "cell_type": "markdown",
   "id": "c5314ea0-a14c-4592-a15a-65b8da592d2a",
   "metadata": {},
   "source": [
    "# Dinamično programiranje\n",
    "\n",
    "Dinamično programiranje je algoritmičen pristop, ki je podoben pristopu deli in vladaj. Tudi pri uporabi dinamičnega programiranja bomo razbili problem na manjše podprobleme, poiskali optimalne rešitve podproblemov in si z njimi pomagali pri rešitvi začetnega problema. Pomembne lastnosti problema, pri katerem si lahko pomagamo z dinamičnim programiranjem so:\n",
    "- neodvisnost podproblemov: Posamezen podproblem lahko rešujemo neodvisno od drugih podproblemov.\n",
    "- optimalna podstruktura: Optimalna rešitev problema vsebuje optimalne rešitve podproblemov.\n",
    "- **prekrivanje/ponavljanje podproblemov**: To je glavna lastnost, ki jo bomo izkoristili za izboljšave in v čemer se pristop razlikuje od tehnike deli in vladaj.\n",
    "\n",
    "Tehniko lahko enostavno povzamemo z nasvetom \"ne računaj enakih stvari večkrat\", v praksi pa je kljub temu nekoliko bolj zapleteno - kako to doseči, katere stvari sploh so enake, ...\n",
    "\n",
    "Pristop nima nobene veze z dinamično alokacijo pomnilnika. Poimenoval ga je njen avtor Richard Bellman. \"Programiranje\" se nanaša na reševanje optimizacijskega problema, poodobno kot matematično programiranje/optimizacija. Pridevnik \"dinamično\" pa se nanaša na različne podprobleme."
   ]
  },
  {
   "cell_type": "markdown",
   "id": "5e3fdb61-a77a-43c2-9f85-ba3405282cef",
   "metadata": {},
   "source": [
    "## Fibonaccijevo zaporedje\n",
    "\n",
    "Osnovno idejo dinamičnega programiranja si oglejmo na trivialnem primeru Fibonacijevega zaporedja, ki je definirano rekurzivno kot: $F_0 = 0,\\quad F_1 = 1,\\quad F_n = F_{n-1}+F_{n-2}$. Zanima nas $n$-to število v zaporedju. Pri večjih $n$-jih bodo vrednosti zaporedja precej velike, vendar se s tem ne bomo ukvarjali in bomo zadovoljni z rezultatom, ki je posledica preliva (*overflow*)."
   ]
  },
  {
   "cell_type": "code",
   "execution_count": 13,
   "id": "ba654d56-8afd-4b2e-ab4a-6f9fc8f1d749",
   "metadata": {},
   "outputs": [
    {
     "ename": "SyntaxError",
     "evalue": "invalid syntax. Perhaps you forgot a comma? (699695227.py, line 1)",
     "output_type": "error",
     "traceback": [
      "\u001b[1;36m  Cell \u001b[1;32mIn[13], line 1\u001b[1;36m\u001b[0m\n\u001b[1;33m    int f(int n) {\u001b[0m\n\u001b[1;37m          ^\u001b[0m\n\u001b[1;31mSyntaxError\u001b[0m\u001b[1;31m:\u001b[0m invalid syntax. Perhaps you forgot a comma?\n"
     ]
    }
   ],
   "source": [
    "int f(int n) {\n",
    "    if (n<=0) return n;\n",
    "    return f(n-1)+f(n-2);\n",
    "}"
   ]
  },
  {
   "cell_type": "code",
   "execution_count": 14,
   "id": "f14494ab-ea80-4ac8-a1a2-0c282ef56066",
   "metadata": {},
   "outputs": [
    {
     "ename": "SyntaxError",
     "evalue": "invalid syntax. Perhaps you forgot a comma? (382516576.py, line 1)",
     "output_type": "error",
     "traceback": [
      "\u001b[1;36m  Cell \u001b[1;32mIn[14], line 1\u001b[1;36m\u001b[0m\n\u001b[1;33m    for (int n=0;n<10;n++) {\u001b[0m\n\u001b[1;37m         ^\u001b[0m\n\u001b[1;31mSyntaxError\u001b[0m\u001b[1;31m:\u001b[0m invalid syntax. Perhaps you forgot a comma?\n"
     ]
    }
   ],
   "source": [
    "for (int n=0;n<10;n++) {\n",
    "    cout << n << \": \" << f(n) << endl;\n",
    "}"
   ]
  },
  {
   "cell_type": "markdown",
   "id": "8aceb5c9-4d47-4493-bb0f-c9afaf794c82",
   "metadata": {},
   "source": [
    "Vrednosti izgledajo pravilne. Hitro pa ugotovimo, da na ta način ne bomo mogli računati vrednosti že za malo večje $n$-je. Težava je v eksponentni velikosti drevesa rekurzivnih klicev. Listov tega drevesa, kjer je rezultat funkcije 1, je natanko $F_n$. Poleg tega pa imamo še liste z vrednostjo 0 in vsa notranja vozlišča. Skratka, ogromno število vozlišč oz. klicev funkcije."
   ]
  },
  {
   "cell_type": "code",
   "execution_count": 15,
   "id": "145d0047-71e8-47cb-8d31-23f85f0ba4d2",
   "metadata": {},
   "outputs": [
    {
     "ename": "SyntaxError",
     "evalue": "invalid syntax (2096509138.py, line 1)",
     "output_type": "error",
     "traceback": [
      "\u001b[1;36m  Cell \u001b[1;32mIn[15], line 1\u001b[1;36m\u001b[0m\n\u001b[1;33m    cout << f(100) << endl;  // prepocasi\u001b[0m\n\u001b[1;37m                             ^\u001b[0m\n\u001b[1;31mSyntaxError\u001b[0m\u001b[1;31m:\u001b[0m invalid syntax\n"
     ]
    }
   ],
   "source": [
    "cout << f(100) << endl;  // prepocasi"
   ]
  },
  {
   "cell_type": "markdown",
   "id": "bba46d3c-dd51-47d9-a578-250894e37904",
   "metadata": {},
   "source": [
    "Opazimo lahko, da se bo funkcija izvedla večkrat z istim argumentom $n$. Če se nismo kje zmotili, bi moral imeti vsak tak klic funkcije tudi enak rezultat. Rezultat si lahko ob prvem klicu funkcije shranimo, v kasnejših klicih pa ga samo vrnemo. To je pristop **od zgoraj navzdol** (*top-down*), ki je znan tudi pod imenom **memoizacija** (*memoization*, brez \"r\"). Funkcija se bo torej za vsak možen argument izvedla natanko enkrat, ob ostalih klicih pa bo takoj vrnila vrednost, česar niti ne bomo šteli kot klic funkcije. Število klicev funkcije bo torej $O(n)$, čas izvedbe posameznega klica funkcije pa $O(1)$. Rešitev ima časovno in prostorsko zahtevnost $O(n)$.\n",
    "\n",
    "Za ugotavljanje, ali je bil nek podproblem že rešen ali ne, lahko v tem primeru izkoristimo kar vrednost 0, saj bomo kot izračunane rezultate vpisovali samo večja števila. V splošnem pa bi lahko imeli eno tabelo, ki bi nam povedala, ali je bil nek podproblem že rešen, ter drugo tabelo, ki bi hranila dejanske rezultate. Zaradi enostavnosti bomo uporabili dovolj veliko fiksno tabelo dovolj. Namesto tega bi lahko uporabili katerokoli implementacijo slovarja, ki bi imel kot ključ argumente, ki predstavljajo opis podproblema, za pripadajočo vrednost pa njegovo rešitev."
   ]
  },
  {
   "cell_type": "code",
   "execution_count": 16,
   "id": "6742a809-9765-44ed-92f2-6a493830fcba",
   "metadata": {},
   "outputs": [
    {
     "ename": "SyntaxError",
     "evalue": "invalid syntax. Perhaps you forgot a comma? (3478077152.py, line 1)",
     "output_type": "error",
     "traceback": [
      "\u001b[1;36m  Cell \u001b[1;32mIn[16], line 1\u001b[1;36m\u001b[0m\n\u001b[1;33m    const int N=10000;\u001b[0m\n\u001b[1;37m          ^\u001b[0m\n\u001b[1;31mSyntaxError\u001b[0m\u001b[1;31m:\u001b[0m invalid syntax. Perhaps you forgot a comma?\n"
     ]
    }
   ],
   "source": [
    "const int N=10000;\n",
    "int memo[N+1];  // memoizacijska tabela\n",
    "\n",
    "int f(int n) {\n",
    "    if (n<=0) return n;\n",
    "    if (memo[n]!=0) return memo[n];\n",
    "    memo[n]=f(n-1)+f(n-2)\n",
    "    return memo[n];\n",
    "}"
   ]
  },
  {
   "cell_type": "markdown",
   "id": "83ec48f0-5b75-4ba2-8fa7-cd0f61b16e62",
   "metadata": {},
   "source": [
    "Če smo malo bolj sistematični, lahko rešujemo podprobleme v takem vrstnem redu, da imamo rešitve manjših podproblemov vedno že rešene, ko jih potrebujemo. Podprobleme bomo torej reševali od manjših proti večjim, kar v tem primeru pomeni od manjših proti večjim $n$-jem. Takemu reševanju rečemo **od spodaj navzgor** (*bottom-up*). Časovna in prostorska zahtevnost sta enaki kot v prejšnjem primeru, le da sta še bolj očitni."
   ]
  },
  {
   "cell_type": "code",
   "execution_count": 17,
   "id": "d09bf1cf-44ab-45ea-83a2-193b5a594f72",
   "metadata": {},
   "outputs": [
    {
     "ename": "SyntaxError",
     "evalue": "invalid syntax. Perhaps you forgot a comma? (705820079.py, line 1)",
     "output_type": "error",
     "traceback": [
      "\u001b[1;36m  Cell \u001b[1;32mIn[17], line 1\u001b[1;36m\u001b[0m\n\u001b[1;33m    int fib[N+1];\u001b[0m\n\u001b[1;37m    ^\u001b[0m\n\u001b[1;31mSyntaxError\u001b[0m\u001b[1;31m:\u001b[0m invalid syntax. Perhaps you forgot a comma?\n"
     ]
    }
   ],
   "source": [
    "int fib[N+1];\n",
    "\n",
    "fib[0]=0;\n",
    "fib[1]=1;\n",
    "for (int n=2;n<=N;n++) fib[n]=fib[n-1]+fib[n-2];\n",
    "cout << fib(100) << endl;"
   ]
  },
  {
   "cell_type": "markdown",
   "id": "b23be1a8-d9c4-49cc-9af1-9a66c550411c",
   "metadata": {},
   "source": [
    "Zaradi sistematičnosti pa smo lahko malo bolj prostorsko učinkoviti. Vedno namreč potrebujemo rezultate samo zadnjih dveh izračunanih problemov. Tako lahko prostorsko zahtevnost zmanjšamo na $O(1)$."
   ]
  },
  {
   "cell_type": "code",
   "execution_count": 18,
   "id": "41538e60-4dd0-4c1c-ac4a-fa13a21fdbb2",
   "metadata": {},
   "outputs": [
    {
     "ename": "SyntaxError",
     "evalue": "invalid syntax. Perhaps you forgot a comma? (2796297425.py, line 1)",
     "output_type": "error",
     "traceback": [
      "\u001b[1;36m  Cell \u001b[1;32mIn[18], line 1\u001b[1;36m\u001b[0m\n\u001b[1;33m    int f(int n) {\u001b[0m\n\u001b[1;37m          ^\u001b[0m\n\u001b[1;31mSyntaxError\u001b[0m\u001b[1;31m:\u001b[0m invalid syntax. Perhaps you forgot a comma?\n"
     ]
    }
   ],
   "source": [
    "int f(int n) {\n",
    "    int f1=0, f2=1;\n",
    "    for (int i=2;i<=n;i++) {\n",
    "        int fi=f1+f2;\n",
    "        f2=f1;\n",
    "        f1=fi;\n",
    "    }\n",
    "}"
   ]
  },
  {
   "cell_type": "code",
   "execution_count": 19,
   "id": "ecab7080-3b67-4a88-bb0d-18dd428e36f6",
   "metadata": {},
   "outputs": [
    {
     "ename": "NameError",
     "evalue": "name 'cout' is not defined",
     "output_type": "error",
     "traceback": [
      "\u001b[1;31m---------------------------------------------------------------------------\u001b[0m",
      "\u001b[1;31mNameError\u001b[0m                                 Traceback (most recent call last)",
      "Cell \u001b[1;32mIn[19], line 1\u001b[0m\n\u001b[1;32m----> 1\u001b[0m \u001b[43mcout\u001b[49m \u001b[38;5;241m<<\u001b[39m f(\u001b[38;5;241m100\u001b[39m) \u001b[38;5;241m<<\u001b[39m endl;\n",
      "\u001b[1;31mNameError\u001b[0m: name 'cout' is not defined"
     ]
    }
   ],
   "source": [
    "cout << f(100) << endl;"
   ]
  },
  {
   "cell_type": "markdown",
   "id": "4f09b376-72c0-4222-9bff-a5dc84024d14",
   "metadata": {},
   "source": [
    "## Žabji skoki\n",
    "\n",
    "Vzdolž potoka gleda iz vode $n$ skal na koordinatah $x_1 < x_2 < ... < x_n$. Žabec sedi na prvi skali in bi rad z zaporedjem skokov po skalah prispel do zadnje skale. V enem skoku lahko skoči najmanj $a$ in največ $b$ enot daleč v smeri proti cilju. Kakšno je najmanjše število skokov, ki jih potrebuje za to?\n",
    "\n",
    "Če je $a=0$, smo že v poglavju o požrešnih algoritmih na podobnem problemu ugotovili, da lahko z vsakim skokom skoči do najbolj oddaljene skale, ki jo še doseže, in bo s tem minimiziral število svojih skokov. Vpeljava spodnje meje dolžine skoka pa problem zakomplicira.\n",
    "\n",
    "Če razmišljamo rekurzivno, se bo žabec v prvem skoku premaknil na neko skalo $x_i$, ki je oddaljena med $a$ in $b$ od skale $x_1$. Če take skale sploh ni, pot do cilja ne obstaja. Za to je porabil en skok, nato pa se mora v čim manjšem številu skokov premakniti s skale $x_i$ do cilja. Definirajmo podproblem $f(i)$ kot najmanjše število skokov, ki ga žabec potrebuje, da pride na cilj z $i$-te skale:\n",
    "- $f(n) = 0$\n",
    "- $f(i) = \\min_{j>i:\\;a \\leq x_j-x_i \\leq b\\;} (1 + f(j))$\n",
    "\n",
    "Očitno bo prišlo do ponavljanja podproblemov. Do neke skale lahko žabec pride na več načinov, ampak za optimalno pot od tam do cilja je povsem nepomembno, kako je do tja prišel. Pomembno je samo, na kateri skali se nahaja. Zato si lahko rešitev shranimo in jo kasneje po potrebi uporabimo, ne da bi jo računali ponovno. Lahko pa bi probleme reševali tudi sistematično po principu od spodaj navzgor, kar v tem primeru pomeni od skal bližje cilju proti tistim bližje začetku.\n",
    "\n",
    "Rešiti moramo $O(n)$ podproblemov, za rešitev vsakega od njih pa moramo preveriti $O(n)$ možnosti za naslednji skok. Časovna zahtevnost je $O(n^2)$, prostorska pa $O(n)$."
   ]
  },
  {
   "cell_type": "code",
   "execution_count": 29,
   "id": "500b7550-f000-4127-b832-2596ba6c1b31",
   "metadata": {},
   "outputs": [
    {
     "ename": "SyntaxError",
     "evalue": "invalid syntax. Perhaps you forgot a comma? (3020718178.py, line 1)",
     "output_type": "error",
     "traceback": [
      "\u001b[1;36m  Cell \u001b[1;32mIn[29], line 1\u001b[1;36m\u001b[0m\n\u001b[1;33m    const int inf=1e9;\u001b[0m\n\u001b[1;37m          ^\u001b[0m\n\u001b[1;31mSyntaxError\u001b[0m\u001b[1;31m:\u001b[0m invalid syntax. Perhaps you forgot a comma?\n"
     ]
    }
   ],
   "source": [
    "const int inf=1e9;\n",
    "\n",
    "int f(int i, vector<int> &x) {\n",
    "    if (i==n) return 0;\n",
    "    int best=inf;\n",
    "    for (int j=i+1;j<=n;j++) {\n",
    "        int d=x[j]-x[i];\n",
    "        if (a<=d && d<=b) best=min(best, 1+f(j,x));\n",
    "    }\n",
    "    return best;\n",
    "}"
   ]
  },
  {
   "cell_type": "code",
   "execution_count": 30,
   "id": "7d91ab8f-7b95-4844-89e0-3e21baacb581",
   "metadata": {},
   "outputs": [
    {
     "ename": "SyntaxError",
     "evalue": "cannot assign to comparison (3018260832.py, line 1)",
     "output_type": "error",
     "traceback": [
      "\u001b[1;36m  Cell \u001b[1;32mIn[30], line 1\u001b[1;36m\u001b[0m\n\u001b[1;33m    vector<int> x = {0,1,3,4,6,10}  // 0 na prvem mestu je namenjena zgolj poravnavi indeksov\u001b[0m\n\u001b[1;37m    ^\u001b[0m\n\u001b[1;31mSyntaxError\u001b[0m\u001b[1;31m:\u001b[0m cannot assign to comparison\n"
     ]
    }
   ],
   "source": [
    "vector<int> x = {0,1,3,4,6,10}  // 0 na prvem mestu je namenjena zgolj poravnavi indeksov\n",
    "cout << f(1,x) << endl;"
   ]
  },
  {
   "cell_type": "markdown",
   "id": "1ecd09d7-a3a3-4c03-9fed-e5dd3e0a5bf0",
   "metadata": {},
   "source": [
    "## Rezanje palice\n",
    "\n",
    "Pri problemu rezanja palice (*rod cutting*) imamo podano palico dolžine $n$, ki jo želimo razrezati na manjše kose in te kose prodati posamično za čim večjo skupno ceno. Dolžina palice in dolžine kosov morajo biti celoštevilske. Podano imamo tabelo cen $c$, v kateri nam $i$-to število $c_i$ pove, za kakšno ceno bomo lahko prodali palico dolžine $i$. Daljši kot je kos, za večjo ceno ga bomo lahko prodali: veljalo bo $c_i \\leq c_{i+1}$. Kakšen je največji možen izkupiček od prodaje razrezane palice?\n",
    "\n",
    "Oglejmo si primer s spodnjo tabelo cen:\n",
    "<table>\n",
    "<tr style=\"border: 1px solid\"><td>$i$</td><td>1</td><td>2</td><td>3</td><td>4</td><td>5</td><td>6</td><td>7</td><td>8</td></tr>\n",
    "<tr style=\"border: 1px solid\"><td>$c_i$</td><td>2</td><td>5</td><td>7</td><td>9</td><td>10</td><td>17</td><td>17</td><td>20</td></tr>\n",
    "</table>\n",
    "\n",
    "Naj bo dolžina palice $n=8$:\n",
    "- Če jo razrežemo na dva kosa dolžin 3 in 5, bomo dobili samo $c_3 + c_5 = 18$.\n",
    "- Če razrežemo palico na kose dolžine 1, bomo zanjo dobili $n \\cdot c_1 = 16$.\n",
    "\n",
    "Če bi bila dolžina palice $n=4$, pa je optimalna rešitev razrez na polovico $c_2 + c_2 = 10$.\n",
    "\n",
    "Rekurzivni razmislek o zaslužku $f(n)$ pri optimalnem rezanju palice dolžine $n$ nam pove, da bomo morali izbrati dolžino prvega reza. Če je palica dolžine $n$, si moramo izbrati enega od rezov dolžine $x \\leq n$ (s čimer zaslužimo $c_x$) ter optimalno zrezati preostanek palice dolžine $n-x$. Ker ne vemo, katera dolžina reza bo najboljša, rekurzivno preverimo vse. Uporabimo tokrat pristop od spodaj navzgor in izračunajmo zaslužke za vedno daljše palice: $f(n) = \\max_{x \\leq n} f(n-x)+c_x$."
   ]
  },
  {
   "cell_type": "code",
   "execution_count": 1,
   "id": "b9ec3d64-3832-4dc5-8136-6b326f267307",
   "metadata": {},
   "outputs": [
    {
     "ename": "SyntaxError",
     "evalue": "cannot assign to comparison (3454708363.py, line 1)",
     "output_type": "error",
     "traceback": [
      "\u001b[1;36m  Cell \u001b[1;32mIn[1], line 1\u001b[1;36m\u001b[0m\n\u001b[1;33m    vector<int> c = {0,2,5,7,9,10,17,17,20};\u001b[0m\n\u001b[1;37m    ^\u001b[0m\n\u001b[1;31mSyntaxError\u001b[0m\u001b[1;31m:\u001b[0m cannot assign to comparison\n"
     ]
    }
   ],
   "source": [
    "vector<int> c = {0,2,5,7,9,10,17,17,20};\n",
    "int N=8;\n",
    "int f[N+1];\n",
    "f[0]=0;\n",
    "for (int n=1;n<=N;n++) {\n",
    "    f[n]=0;\n",
    "    for (int x=1;x<=n;x++) {\n",
    "        f[n]=max(f[n], f[n-x]+c[x]);\n",
    "    }\n",
    "}\n",
    "cout << f[8] << endl;\n",
    "cout << f[4] << endl;"
   ]
  },
  {
   "cell_type": "markdown",
   "id": "ced947f4-a8b7-4366-9586-43cbb13ada4a",
   "metadata": {},
   "source": [
    "Časovna zahtevnost algoritma je $O(n^2)$, prostorska pa $O(n)$.\n",
    "\n",
    "Razmislimo še o **rekonstrukciji** rešitve. Katere reze je treba narediti, da dosežemo optimalno ceno? Za vsak podproblem poiščemo potezo, ki je vodila do optimalnega rezultata. Druga možnost pa je, da si že ob reševanju podproblema shranimo optimalno potezo: npr. v dodatni tabeli $g(n)$ bi lahko hranili $x$, pri katerem funkcija $f(n)$ doseže svoj maksimum."
   ]
  },
  {
   "cell_type": "code",
   "execution_count": 2,
   "id": "a4fd47c6-45f2-4ac4-9d8d-599a399f2b63",
   "metadata": {},
   "outputs": [
    {
     "ename": "SyntaxError",
     "evalue": "invalid syntax. Perhaps you forgot a comma? (1313276284.py, line 1)",
     "output_type": "error",
     "traceback": [
      "\u001b[1;36m  Cell \u001b[1;32mIn[2], line 1\u001b[1;36m\u001b[0m\n\u001b[1;33m    int n=8;\u001b[0m\n\u001b[1;37m    ^\u001b[0m\n\u001b[1;31mSyntaxError\u001b[0m\u001b[1;31m:\u001b[0m invalid syntax. Perhaps you forgot a comma?\n"
     ]
    }
   ],
   "source": [
    "int n=8;\n",
    "while (n>0) {\n",
    "    for (int x=1;x<=n;x++) {\n",
    "        if (f[n]==f[n-x]+c[x]) {\n",
    "            cout << x << endl;\n",
    "            n-=x;\n",
    "            break;\n",
    "        }\n",
    "    }\n",
    "}"
   ]
  },
  {
   "cell_type": "markdown",
   "id": "e4c5bf68-cad1-465c-9e62-6f3b48dfa22c",
   "metadata": {},
   "source": [
    "## Pot v mreži\n",
    "\n",
    "V labirintu višine $h$ in širine $w$ oz. tabeli znakov '.', ki predstavljajo prosto polje in '#', ki predstavlajo blokirano polje, nas zanima, na koliko načinov lahko pridemo iz levega-zgornjega kota v desni-spodnji kot, pri čemer se lahko premikamo samo desno in navzdol. V spodnjem primeru obstajajo tri take poti.\n",
    "\n",
    "```text\n",
    ".#....\n",
    "....#.\n",
    ".#..#.\n",
    "......\n",
    "```\n",
    "\n",
    "Rekurzivno bi problem reševali tako, da bi se s trenutne celice poskusili premakniti desno in navzdol (če sta oba premika sploh možna) in sešteli možne poti do cilja iz nove lokacije (sosednje celice). Dosedanji problemi so imel eno-dimenzionalen opis podproblema, kjer smo podproblem opisali z eno spremenljivko. Tokrat pa podproblem opišemo z dvema dimenzijama - vrstico in stolpcem celice. Če je polje zasedeno ali se nahaja izven mreže, je število poti do cilja enako $0$, sicer pa velja $f(i,j) = f(i+1,j) + f(i,j+1)$. Robni pogoj v desnem-spodnjem kotu je $f(h-1, w-1)=0$.\n",
    "\n",
    "Podprobleme lahko rešujemo sistematično po vrsticah od spodaj navzgor in znotraj vrstice od desne proti levi. Tako imamo potrebne rešitve podproblemov vsakič že na voljo. Časovna in prostorska zahtevnost sta $O(hw)$."
   ]
  },
  {
   "cell_type": "code",
   "execution_count": 4,
   "id": "5cb4e940-8d19-49b2-ad33-0c697c88dd80",
   "metadata": {},
   "outputs": [
    {
     "ename": "SyntaxError",
     "evalue": "cannot assign to comparison (460281349.py, line 1)",
     "output_type": "error",
     "traceback": [
      "\u001b[1;36m  Cell \u001b[1;32mIn[4], line 1\u001b[1;36m\u001b[0m\n\u001b[1;33m    vector<string> lab = {\".#....\",\u001b[0m\n\u001b[1;37m    ^\u001b[0m\n\u001b[1;31mSyntaxError\u001b[0m\u001b[1;31m:\u001b[0m cannot assign to comparison\n"
     ]
    }
   ],
   "source": [
    "vector<string> lab = {\".#....\",\n",
    "                      \"....#.\",\n",
    "                      \".#..#.\",\n",
    "                      \"......\"};\n",
    "int h=lab.size(), w=lab[0].size();\n",
    "int f[h+1][w+1]={};  // inicializacija na privzeto vrednost 0\n",
    "for (int i=h-1;i>=0;i--) {\n",
    "    for (int j=w-1;j>=0;j--) {\n",
    "        if (i==h-1 && j==w-1) f[i][j]=1;\n",
    "        else if (f[i][j]=='#') f[i][j]=0;\n",
    "        else f[i][j]=f[i+1][j]+f[i][j+1];\n",
    "    }\n",
    "}\n",
    "cout << f[0][0] << endl;"
   ]
  },
  {
   "cell_type": "markdown",
   "id": "a1c06bf5-616d-4ce8-b617-ff574a3094c4",
   "metadata": {},
   "source": [
    "Prostorsko zahtevnost bi lahko izboljšali na $O(w)$, ker pri računanju vrednosti $f(i,*)$ potrebujemo samo že izračunane rezultate desno v isti vrstici $f(i,*)$ in eno vrstico nižje $f(i+1,*)$."
   ]
  },
  {
   "cell_type": "markdown",
   "id": "bbb38840-492d-4d08-9469-7a6f5791c077",
   "metadata": {},
   "source": [
    "## Najdaljše skupno podzaporedje\n",
    "\n",
    "Pri problemu najdaljšega skupnega podzaporedja (*longest common subsequence, LCS*) nizov $S$ in $T$ (dolžine $n$ in $m$), iščemo najdaljši niz $\\text{LCS}(S,T)$, ki se pojavi kot podzaporedje (ne nujno podniz) v $S$ in v $T$. Oglejmo si primer $S=A\\bar{B}\\bar{C}\\bar{B}D\\bar{A}B$ in $T=\\bar{B}D\\bar{C}A\\bar{B}\\bar{A}$, kjer je eno izmed najdaljših skupnih podzaporedij $\\text{LCS}(S,T)=BCBA$ dolžine 4.\n",
    "\n",
    "Drugačen pogled na isti problem je poravnava obeh nizov, da se pri tem čim več znakov ujema.\n",
    "```\n",
    "AB C BDAB\n",
    " BDCAB A\n",
    "```\n",
    "Rekurzivni razmislek je sledeč:\n",
    "- Če se oba niza začneta z enakim znakom, je ta znak lahko začetek LCS-ja. Preostanek pa je LCS za en znak krajših nizov.\n",
    "- Če se niza razlikujeta v prvem znaku, potem vsaj en od teh dveh znakov ne bo del LCS-ja. Preizkusimo obe možnosti in rešimo problem z nizoma, kjer je en malo krajši.\n",
    "\n",
    "Naj bo $\\text{LCS}(i,j)$ najdaljši skupni podniz nizov $S_i S_{i+1} \\ldots S_{n-1}$ in $T_j T_{j+1} \\ldots T_{m-1}$:\n",
    "$$\\text{LCS}(i,j)=\\max \\begin{cases}\n",
    "1+\\text{LCS}(i+1,j+1) & \\text{če } S_i = T_j \\\\\n",
    "\\text{LCS}(i+1,j) \\\\\n",
    "\\text{LCS}(i,j+1) \\\\\n",
    "\\end{cases}\\\\\n",
    "$$\n",
    "Robni primeri pa so $\\text{LCS}(n,*) = 0$ in $\\text{LCS}(*,m) = 0$.\n",
    "\n",
    "\n",
    "Problem lahko rešujemo sistematično od večjih proti manjšim $i$-jem in enako za $j$. Rešujemo torej probleme z vedno daljšimi priponami nizov $S$ in $T$. S tem pravzaprav izpolnjujemo 2D tabelo od desnega spodnjega kota proti levemu zgornjemu, tako da izberemo večjo od spodnje in desne celice. Če sta začetna znaka enaka, pa upoštevamo še diagonalen rezultat povečan za 1. Dokažemo lahko tudi, da bo ta diagonalna poteza vedno optimalna, če je na voljo."
   ]
  },
  {
   "cell_type": "code",
   "execution_count": null,
   "id": "a43b135a-4aa5-408d-89e5-1ee5491f60c7",
   "metadata": {},
   "outputs": [],
   "source": [
    "int LCS(string s, string t) {\n",
    "    int n=s.size(), m=t.size();\n",
    "    int lcs[n][m]={};  // inicializacija na 0\n",
    "    for (int i=n-1;i>=0;i--) {\n",
    "        for (int j=m-1;j>=0;j--) {\n",
    "            lcs[i][j]=max(lcs[i+1][j], lcs[i][j+1]);\n",
    "            if (s[i]==t[j]) lcs[i][j]=max(lcs[i][j], 1+lcs[i+1][j+1]);\n",
    "        }\n",
    "    }\n",
    "    for (int i=0;i<n;i++) {\n",
    "        for (int j=0;j<m;j++) {\n",
    "            cout << lcs[i][j] << '\\t';\n",
    "        }\n",
    "        cout << endl;\n",
    "    }\n",
    "    return lcs[0][0];\n",
    "}"
   ]
  },
  {
   "cell_type": "markdown",
   "id": "e9ff0188-b451-41a3-8249-f6d72763206a",
   "metadata": {},
   "source": [
    "Časovna in prostorska zahtevnost sta $O(nm)$. Problem lahko rešujemo tudi v obratni smeri od konca proti začetkom nizov, kjer se vprašamo, kaj se bo zgodilo z zadnjima znakoma obeh nizov (namesto prvima), kar boste pogosto videli v drugih virih.\n",
    "\n",
    "Kako pa bi problem rešili za tri nize? $\\text{LCS}(S,T,U)$ namreč ni enak $\\text{LCS}(\\text{LCS}(S,T),U)$! Stanje bi opisali s trojico indeksov $\\text{LCS}(i,j,k)$ in obravnavali primere podobno kot za dva niza. Če velja $S_i = T_j = U_k$, je ta znak lahko del LCS-ja, sicer pa vsaj en izmed njih ne bo in lahko enega od nizov skrajšamo.\n",
    "\n",
    "Soroden problem je iskanje najdaljšega skupnega podniza (ne podzaporedja; *longest common substring*), kjer mora biti pojavitev podniza strnjena v obeh nizih. Ta problem ima drugačne in bolj učinkovite rešitve."
   ]
  },
  {
   "cell_type": "markdown",
   "id": "165f895e-6be5-4c10-8efc-3f1ffef9a266",
   "metadata": {},
   "source": [
    "## Nahrbtnik\n",
    "\n",
    "Podoben problem je coin change"
   ]
  },
  {
   "cell_type": "markdown",
   "id": "f0f87d31-853f-411b-9f2d-51335764b567",
   "metadata": {},
   "source": [
    "## Najdaljše naraščajoče podzaporedje\n",
    "\n",
    "(*longest increasing subsequence*)"
   ]
  },
  {
   "cell_type": "code",
   "execution_count": null,
   "id": "f1f7040c-6978-4f03-87af-d0cdda108513",
   "metadata": {},
   "outputs": [],
   "source": []
  }
 ],
 "metadata": {
  "kernelspec": {
   "display_name": "Python 3 (ipykernel)",
   "language": "python",
   "name": "python3"
  },
  "language_info": {
   "codemirror_mode": {
    "name": "ipython",
    "version": 3
   },
   "file_extension": ".py",
   "mimetype": "text/x-python",
   "name": "python",
   "nbconvert_exporter": "python",
   "pygments_lexer": "ipython3",
   "version": "3.10.0"
  }
 },
 "nbformat": 4,
 "nbformat_minor": 5
}
