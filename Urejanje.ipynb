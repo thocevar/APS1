{
 "cells": [
  {
   "cell_type": "markdown",
   "id": "d80ee681-5035-4704-9af6-9ef5d65e5306",
   "metadata": {},
   "source": [
    "# Urejanje\n",
    "\n",
    "V tem poglavju si bomo ogledali različne algoritme urejanja (sortiranja), od povsem neuporabnih, do enostavnih in vse do najbolj naprednih. \n",
    "\n",
    "Pri urejanju imamo podano neko zaporedje elementov, ki ga želimo preurediti v vrstni red, ki bo ustrezal neki meri urejenosti. Če imamo opravka s števili, nam je že na pogled takoj očitno, kako jih je treba urediti, računalniku pa žal ne. Zato si oglejmo primer s seznamom imen `Tine, Ana, Miha, Mojca`. Imena lahko uredimo po abecedi (`Ana, Miha, Mojca, Tine`), lahko pa jih uredimo po dolžini od krajših proti daljšim (`Ana, Miha, Tine, Mojca`). V tem drugem primeru vrstni red niti ni enolično določen. Enako dober bi bil vrstni red, kjer bi zamenjali Miho in Tineta. Lahko pa imena oseb uredimo glede na njihovo starost in dobimo čisto drugačen vrstni red.\n",
    "\n",
    "Najprej se bomo posvetili algoritmom, ki temeljijo na medsebojnih *primerjavah* elementov. Tak urejevalni algoritem si lahko za določanje vrstnega reda elementov v urejenem seznamu pomaga samo s primerjavami dveh elementov (npr. $A$ in $B$), kjer dobi odgovor, ali se mora element $A$ nahajati pred elementom $B$ v iskanem urejenem vrstem redu."
   ]
  },
  {
   "cell_type": "markdown",
   "id": "583be7f9-2d12-4b2f-8b80-b370121194fc",
   "metadata": {},
   "source": [
    "## Neuporabni urejevalni algoritmi\n",
    "\n",
    "Pri urejanju pravzaprav iščemo neko preureditev elementov seznama, ki bo zadoščala pogojem urejenosti. Zanima nas torej neka permutacija, ki nam da urejen seznam. En zelo neučinkovit način je, da enostavno preverimo vse permutacije. Temu postopku bomo rekli urejanje s permutacijami, znan pa je tudi kot *bogosort*, *permutation sort*, *snail sort*."
   ]
  },
  {
   "cell_type": "markdown",
   "id": "3ae4daf0-25f0-4b9b-a734-6487747d5857",
   "metadata": {},
   "source": [
    "Za preverjanje vseh permutacij nam bo prišla prav funkcija za generiranje naslednje permutacije `next_permutation` iz knjižnice `algorithm`. Kasneje pa nam bo za generiranje naključnih permutacij prav prišla funkcija `shuffle` iz iste knjižnice in generator naključnih števil iz knjižnice `random`."
   ]
  },
  {
   "cell_type": "code",
   "execution_count": 1,
   "id": "db6647c5-ee15-4f00-96c3-ff42559659d7",
   "metadata": {},
   "outputs": [],
   "source": [
    "#include <iostream>\n",
    "#include <string>\n",
    "#include <algorithm>\n",
    "#include <random>\n",
    "using namespace std;"
   ]
  },
  {
   "cell_type": "code",
   "execution_count": 2,
   "id": "56001b6b-c155-4299-8c40-891dd34fc1a7",
   "metadata": {},
   "outputs": [],
   "source": [
    "int uredi_perm(vector<string> &sez) {\n",
    "    vector<int> p;  // permutacija\n",
    "    for (int i=0;i<sez.size();i++) p.push_back(i);\n",
    "    int st=0;\n",
    "    // preizkusimo vse permuacije\n",
    "    do {\n",
    "        st++;\n",
    "        // iz permutacije sestavimo pripadajoc \"urejen\" seznam\n",
    "        vector<string> urejen(sez.size());\n",
    "        for (int i=0;i<sez.size();i++) {\n",
    "            urejen[i] = sez[p[i]];\n",
    "        }\n",
    "        // preverimo urejenost seznama\n",
    "        bool je_urejen = true;\n",
    "        for (int i=0;i+1<sez.size();i++) {\n",
    "            if (urejen[i] > urejen[i+1]) je_urejen = false;\n",
    "        }\n",
    "        // ustavimo iskanje, ce smo nasli resitev\n",
    "        if (je_urejen) {\n",
    "            sez = urejen;\n",
    "            break;\n",
    "        }\n",
    "    } while (next_permutation(p.begin(),p.end()));\n",
    "    return st;\n",
    "}"
   ]
  },
  {
   "cell_type": "code",
   "execution_count": 3,
   "id": "146c23ca-1ac3-4f46-a312-4f01b5d6df6b",
   "metadata": {},
   "outputs": [
    {
     "name": "stdout",
     "output_type": "stream",
     "text": [
      "Ana\n",
      "Miha\n",
      "Mojca\n",
      "Tine\n"
     ]
    }
   ],
   "source": [
    "vector<string> sez={\"Tine\", \"Ana\", \"Miha\", \"Mojca\"};\n",
    "uredi_perm(sez);\n",
    "for (string ime : sez) cout << ime << endl;"
   ]
  },
  {
   "cell_type": "markdown",
   "id": "70b8c84b-3844-44cc-a8c4-554d0f182af0",
   "metadata": {},
   "source": [
    "Funkcijo `uredi_perm` smo dopolnili tako, da vrača še število obravnavanih permutacij `st`, ki nam bo prišlo prav kasneje. Kako pa deluje `next_permutation`? Permutacije bi lahko generirali rekurzivno, obstaja pa tudi lep iterativen postopek, ki sestavi naslednjo permutacijo. Kogar zanima, si lahko ogleda [blog](https://wordaligned.org/articles/next-permutation) in [stran na wikipediji](https://en.wikipedia.org/wiki/Permutation#Generation_in_lexicographic_order), mi pa nadaljujemo z urejanjem."
   ]
  },
  {
   "cell_type": "markdown",
   "id": "9472e367-a6e2-4c33-9d11-91c618f7d16c",
   "metadata": {},
   "source": [
    "Namesto sistematičnega preverjanja vseh možnih permutacij, bi lahko generirali naključne permutacije. Če je naš naključni generator pošten, bomo zagotovo nekoč našli pravo permutacijo (povsem slučajno). Tokrat bomo preurejali kar vhodni seznam brez uporabe pomožne permutacije."
   ]
  },
  {
   "cell_type": "code",
   "execution_count": 4,
   "id": "acbf4b89-03cf-4de0-9811-f7c3f51469b0",
   "metadata": {},
   "outputs": [],
   "source": [
    "int uredi_rand(vector<string> &sez) {\n",
    "    default_random_engine rnd;  // generator nakljucnih stevil\n",
    "    int st=0;\n",
    "    while (1) {\n",
    "        st++;\n",
    "        // nakljucno premesamo seznam\n",
    "        shuffle(sez.begin(),sez.end(),rnd);\n",
    "        // preverimo urejenost seznama\n",
    "        bool je_urejen = true;\n",
    "        for (int i=0;i+1<sez.size();i++) {\n",
    "            if (sez[i] > sez[i+1]) je_urejen = false;\n",
    "        }\n",
    "        if (je_urejen) break;\n",
    "    }\n",
    "    return st;\n",
    "}"
   ]
  },
  {
   "cell_type": "code",
   "execution_count": 5,
   "id": "cd367aba-dc9a-41e5-ab1d-da2ab422638b",
   "metadata": {},
   "outputs": [
    {
     "name": "stdout",
     "output_type": "stream",
     "text": [
      "Ana\n",
      "Miha\n",
      "Mojca\n",
      "Tine\n"
     ]
    }
   ],
   "source": [
    "vector<string> sez={\"Tine\", \"Ana\", \"Miha\", \"Mojca\"};\n",
    "uredi_rand(sez);\n",
    "for (string ime : sez) cout << ime << endl;"
   ]
  },
  {
   "cell_type": "markdown",
   "id": "7a2d1a55-5043-40e5-a8f6-4d7467ae2dd4",
   "metadata": {},
   "source": [
    "Razmislite, kako bi napisali svojo funkcijo `shuffle`, ki bo naključno premešala seznam. Idealno bi bilo, če so vse permutacije enako verjetne."
   ]
  },
  {
   "cell_type": "markdown",
   "id": "cc99cb14-eb3e-4489-958a-577cf025934e",
   "metadata": {},
   "source": [
    "## Računska zahtevnost"
   ]
  },
  {
   "cell_type": "markdown",
   "id": "9e8ffa64-9ca4-48b0-a5a6-70aad2d9e5d4",
   "metadata": {},
   "source": [
    "Poskusimo odgovorit na par vprašanj, ki si jih lahko zastavimo v zvezi s prejšnjima dvema urejevalnima algoritmoma s permutacijami.\n",
    "- Sta algoritma dobra ali slaba?\n",
    "- Kateri od njiju je boljši?\n",
    "- Kako merimo učinkovitost oz. računsko zahtevnost algoritma?\n",
    "\n",
    "Poznamo precej hitrejše postopke urejanja, ki niso bistveno kompleksnejši (morda celo enostavnejši), zato lahko brez škode rečemo, da sta algoritma slaba.\n",
    "\n",
    "Kateri je boljši, pa že nima tako očitnega odgovora. V najslabšem primeru se nam lahko zgodi, da bo imel naključni algoritem res nesrečo in zelo dolgo ne bo odkril pravega vrstnega reda. Ali pa bo ravno obratno in ga bo uganil zelo hitro. Kaj pa v povprečju? Tega se lahko lotimo eksperimentalno in preštejemo število permutacij, ki jih oba algoritma obravnavata. Če imamo $n$ imen, je vseh možnih permutacij $n!$ ($n$ fakulteta). Poskusimo z $n=7$ in naredimo $100$ poskusov urejanja naključno premešanega seznama z obema algoritmoma."
   ]
  },
  {
   "cell_type": "code",
   "execution_count": 15,
   "id": "5167e365-8700-4119-b674-af4320f9364b",
   "metadata": {},
   "outputs": [
    {
     "name": "stdout",
     "output_type": "stream",
     "text": [
      "deterministicni: 2671.32\n",
      "nakljucni:       4929.98\n"
     ]
    }
   ],
   "source": [
    "vector<string> sez={\"Tine\", \"Ana\", \"Miha\", \"Mojca\", \"Joze\", \"Katja\", \"Vid\"};\n",
    "default_random_engine rnd(123);\n",
    "int st_p=0, st_r=0;\n",
    "int k=100;\n",
    "for (int it=0; it<k; it++) {\n",
    "    shuffle(sez.begin(), sez.end(), rnd);\n",
    "    vector<string> sez1 = sez, sez2 = sez;  // kopiji seznama za urejanje\n",
    "    st_p += uredi_perm(sez1);\n",
    "    st_r += uredi_rand(sez2);\n",
    "    assert(sez1==sez2);\n",
    "}\n",
    "cout << \"deterministicni: \" << (double)st_p/k << endl;\n",
    "cout << \"nakljucni:       \" << (double)st_r/k << endl;"
   ]
  },
  {
   "cell_type": "markdown",
   "id": "ce2e8012-2887-43b1-8cc2-c43d158fb028",
   "metadata": {},
   "source": [
    "Zanimivo, deterministični se v povprečju izkaže za boljšega. Vseh permutacij je $7! = 5040$. Deterministični po v povprečju našel pravo permutacijo nekje na polovici, kakšne prej, kakšne pa kasneje. Naključni pa jih obravnava dvakrat več, približno toliko, kolikor je vseh permutacij. Zakaj je temu tako? Razmislite, koliko metov kocke potrebujete v povprečju, da boste vrgli 6 pik. Če je $x$ pričakovano število metov, velja $x = 1 + \\frac{1}{6} \\cdot 0 + \\frac{5}{6} \\cdot x$, torej $x=6$. Tu imamo opravka z $n!$-strano kocko. Do rezultata bi se lahko torej dokopali tudi analitično namesto eksperimentalno."
   ]
  },
  {
   "cell_type": "markdown",
   "id": "33f08216-5bdb-4c1d-a531-a18dcb78daf8",
   "metadata": {},
   "source": [
    "Ostane še tretje vprašanje, kako merimo učinkovitost algoritma?\n",
    "- Lahko merimo **čas izvajanja**, vendar je te čase problematično primerjati na različnih računalnikih.\n",
    "- Lahko merimo **število operacij**, ki jih potrebuje algoritem. Dogovoriti pa se moramo, *katere operacije* bomo šteli (primerjave, aritmetične, logične, pomnilniške, ...) in *v kakšnem primeru* podatkov (najboljšem, najslabšem, povprečnem).\n",
    "- Dogovoriti se moramo tudi, s kakšnimi (kako velikimi) primeri imamo opravka. En algoritem je lahko boljši za manjše primere, drugi pa se izkaže pri večjih.\n",
    "\n",
    "Kot bomo videli v nadaljevanju, običajno ocenjujemo asimptotično zgornjo mejo števila operacij."
   ]
  },
  {
   "cell_type": "markdown",
   "id": "44fdea74-6ca8-4af2-8e3e-9dd08bd91f7e",
   "metadata": {},
   "source": [
    "**Računska zahtevnost** (kompleksnost) je količina virov, ki jih potrebuje algoritem za rešitev problema dane velikosti. Pri virih se običajno osredotočamo na čas in prostor, zato govorimo o **časovni** in **prostorski zahtevnosti**. \n",
    "\n",
    "Ker imamo lahko različne podatke enake velikosti, moramo definirati, ali gre za **najboljšo**, **najslabšo** ali **povprečno** računsko zahtevnost. Običajno se osredotočamo na najslabšo (*worst-case*), če ni določeno drugače.\n",
    "\n",
    "Natančno količino virov je pogosto težko izračunati, poleg tega pa ni pretirano praktično uporabna. Na računalniku z malenkost drugačno arhitekturo je že lahko drugačna. Poleg tega pa nas za majhne probleme običajno ne zanima, ker je takrat preglednost bolj pomembna od učinkovitosti. Zato se običajno ukvarjamo z **asimptotično zahtevnostjo**, ki opisuje porabo virov algoritma pri zelo velikih problemih. Pri tem pogosto ocenjujemo neko mejo asimptotične zahtevnosti. Najpogosteje ocenjujemo zgornjo mejo, za kar se uporablja **notacija z velikim O-jem** (*Big O notation*). Rečemo, da ima funkcija $f(n)$ kompleksnost reda $g(n)$, kar zapišemo kot $O(g(n))$. Formalno to pomeni:\n",
    "\n",
    "$\\exists k>0\\;\\exists n_{0}\\;\\forall n>n_{0}\\colon f(n)\\leq k\\,g(n)$\n",
    "\n",
    "ali enakovredno z limitami\n",
    "\n",
    "$\\limsup _{n\\to \\infty }{\\frac {f(n)}{g(n)}}<\\infty$.\n",
    "\n",
    "Poleg zgornje meje asimptotične zahtevnosti (veliki O) poznamo še notacije za druge meje (velika omega - $\\Omega$, velika theta - $\\Theta$, ...). Več o njih pa pri drugih algoritmičnih predmetih. Omenjene definicije lahko posplošimo tudi na funkcije z več spremenljivkami, če opazujemo časovno zahtevnost algoritma v odvisnosti od več parametrov velikosti problema.\n",
    "\n",
    "> Najpogostejši primer je analiza zgornje meje asimptotične računske zahtevnosti v najslabšem primeru. S tem postavimo pesimistično oceno za najbolj neugoden primer velikih podatkov. Kadar govorimo o *časovni zahtevnosti*, običajno mislimo kar zgornjo mejo asimptotične časovne zahtevnosti v najslabšem primeru, če seveda ni pojasnjeno drugače."
   ]
  },
  {
   "cell_type": "markdown",
   "id": "6ec274fe-f08a-44ce-baf0-2e9e6a4450fa",
   "metadata": {},
   "source": [
    "Recimo, da smo izračunali čas izvajanja oz. število operacij za rešitev problema velikost $n$ s funkcijo $f(n) = \\frac{1}{2}(n-1)(n+2) \\log n + \\sqrt{n}$. Časovno zahtevnost takega algoritma bi lahko ocenili kot $O(2n^3)$, kar je sicer pravilno, vendar precej nenatančna meja. Boljša ocena časovne zahtevnosti bi bila $O(n^2 \\log n)$. Vsi ostali členi so namreč zanemarljivi v primerjavi z $n^2 \\log n$, ko gre $n$ proti neskončnosti, konstantni člen pred njim pa po definiciji ni relevanten. V praksi to pomeni, da:\n",
    "- pri vsoti obdržimo samo najhitreje rastoči člen,\n",
    "- pri produktu pa lahko zanemarimo konstantne faktorje."
   ]
  },
  {
   "cell_type": "markdown",
   "id": "3a269304-e101-45df-b76f-1461659211c9",
   "metadata": {},
   "source": [
    "Tipične časovne zahtevnosti so:\n",
    "- $O(1)$, konstantna (neodvisna od velikosti problema $n$)\n",
    "- $O(\\log n)$, logaritemska\n",
    "- $O(n)$, linearna\n",
    "- $O(n \\log n)$, loglinearna, linearitmična\n",
    "- $O(n \\log^c n)$ za konstanto $c > 0$, npr. $O(n \\log^2 n)$ kvazilinearna\n",
    "- $O(n^2)$, kvadratna\n",
    "- $O(n^3)$, kubična\n",
    "- $O(n^c)$ za konstanto $c > 0$, npr. $O(n^5)$, polinomska\n",
    "- $O(c^n)$ za konstanto $c > 1$, npr. $O(2^n)$, eksponentna"
   ]
  },
  {
   "cell_type": "markdown",
   "id": "4742bcc7-39ab-403c-9ea7-98915e11e934",
   "metadata": {},
   "source": [
    "## Osnovni urejevalni algoritmi\n",
    "\n",
    "Oglejmo si nekatere osnovne urejevalne algoritme, ki bodo služili tudi kot primeri za vajo prej obravnavanih konceptov računske zahtevnosti. Pri urejevalnih algoritmih se včasih posebej obravnava računsko zahtevnost glede na število narejenih primerjav med elementi. To je še posebej smiselno, če je primerjava netrivialna. Mi se bomo omejili na primerjanje enostavnih tipov, in bomo ocenjevali časovno zahtevnost glede na število osnovnih operacij.\n",
    "\n",
    "Veliko bomo izpisovali vsebino seznamov, zato si pripravimo pomožno funkcijo."
   ]
  },
  {
   "cell_type": "code",
   "execution_count": 2,
   "id": "a6332d9c-a84c-41bf-90f2-06ec702b91ff",
   "metadata": {},
   "outputs": [],
   "source": [
    "void print(const vector<int> &s) {\n",
    "    for (int x : s) cout << x << \" \";\n",
    "    cout << endl;\n",
    "}"
   ]
  },
  {
   "cell_type": "markdown",
   "id": "5cc084fe-4a35-4cfc-81b8-f6c2fcfd43c6",
   "metadata": {},
   "source": [
    "### Urejanje z izbiranjem (*selection sort*)\n",
    "\n",
    "Gre za najbolj enostavno strategijo, ki jo običajno izberejo ljudje. Iz seznama, ki ga želimo urediti, bomo izbrali najmanjši element, ga odstranili in ga postavili na prvo mesto urejenega seznama, ki ga tako gradimo. To ponavljamo, dokler nam ne zmanjka vhodnega seznama, pri tem pa smo po vrsti od najmanjšega do največjega elementa zgradili urejen seznam.\n",
    "\n",
    "#### Urejanje na mestu\n",
    "\n",
    "Hitro lahko ugotovimo, da nam ni treba vzdrževati dveh seznamov, ampak lahko na podoben način prerazporedimo elemente kar v vhodnem seznamu. Temu rečemo urejanje na mestu. Najmanjši element zamenjamo s prvim in ga tako premaknemo na prvo mesto. Ponovimo postopek samo s seznamom od drugega mesta naprej itd. \n",
    "\n",
    "Vzdržujemo invarianto, da je v $i$-tem koraku na začetku seznama postavljenih prvih $i$ elementov urejenega zaporedja, preostali elementi pa so še neurejeni. V vsakem koraku urejeni del povečamo za en element, ki ga postavimo na indeks $i$."
   ]
  },
  {
   "cell_type": "code",
   "execution_count": 3,
   "id": "30c0cf44-475f-4f1c-838e-4a06ee5f04dd",
   "metadata": {},
   "outputs": [],
   "source": [
    "void selection_sort(vector<int> &s) {\n",
    "    int n=s.size();\n",
    "    print(s);\n",
    "    for (int i=0; i<n; i++) {  // iscemo i-ti najmanjsi element\n",
    "        int m=i;  // indeks najmanjsega elementa med neurejenimi\n",
    "        for (int j=i+1; j<n; j++) {\n",
    "            if (s[j]<s[m]) m=j;\n",
    "        }\n",
    "        swap(s[i], s[m]);\n",
    "        print(s);\n",
    "    }\n",
    "}"
   ]
  },
  {
   "cell_type": "code",
   "execution_count": 4,
   "id": "794ecfbf-acab-434b-a8f7-fe79559a0131",
   "metadata": {},
   "outputs": [
    {
     "name": "stdout",
     "output_type": "stream",
     "text": [
      "7 2 5 1 2 9 3 \n",
      "1 2 5 7 2 9 3 \n",
      "1 2 5 7 2 9 3 \n",
      "1 2 2 7 5 9 3 \n",
      "1 2 2 3 5 9 7 \n",
      "1 2 2 3 5 9 7 \n",
      "1 2 2 3 5 7 9 \n",
      "1 2 2 3 5 7 9 \n"
     ]
    }
   ],
   "source": [
    "vector<int> sez = {7,2,5,1,2,9,3};\n",
    "selection_sort(sez);"
   ]
  },
  {
   "cell_type": "markdown",
   "id": "17ad803d-6c3d-4678-bf9d-00b186920cb6",
   "metadata": {},
   "source": [
    "Pri prostorski zahtevnosti lahko opazujemo celotno porabo prostora, ki je $O(n)$, ali pa samo količino dodatnega prostora (poleg vhodnih podatkov), ki je $O(1)$. V nadaljevanju se bomo držali prve interpretacije.\n",
    "\n",
    "Časovna zahtevnost (najslabša, povprečna, najboljša): $O(n^2)$, $O(n^2)$, $O(n^2)$"
   ]
  },
  {
   "cell_type": "markdown",
   "id": "48b1fa8b-b92d-4676-98de-2dbe5f72a8d3",
   "metadata": {},
   "source": [
    "#### Stabilnost\n",
    "\n",
    "Zanimivo vprašanje je, ali algoritem ohranja vrstni red enakih elementov, kar imenujemo stabilnost. To postane smiselno v primeru urejanja npr. imen oseb po njihovi starosti. Kakšen bo vrsti red Ane in Jana, če sta enako stara? Bo tak, kot je bil v vhodnem seznamu, ali se lahko zgodi, da ju algoritem premeša?\n",
    "\n",
    "Urejanje z izbiranje je v zgornji obliki *nestabilen* algoritem, ker lahko pri zamenjavi najmanjšega elementa (na indeksu $m$) z elementom, ki mu je v napoto (na mestu $i$), pokvarimo ta vrstni red.\n",
    "\n",
    "Stabilnost lahko vedno dosežemo s tem, da vhodni seznam elementov $x_i$ zamenjamo s seznamom parov $(x_i, i)$, ki vključujejo še indeks, in uredimo tega. Pri primerjavi parov pride najprej do primerjave prvega dela para, v primeru enakosti pa se primerja drugi del."
   ]
  },
  {
   "cell_type": "markdown",
   "id": "8b695303-47b9-4865-933a-b29523149343",
   "metadata": {},
   "source": [
    "### Urejanje z vstavljanjem (*insertion sort*)\n",
    "\n",
    "Tudi tu postopoma gradimo vedno večje urejeno zaporedje. Namesto, da bi iskali element, ki paše na naslednje mesto (kot smo to počeli pri urejanju z izbiranjem), bomo naslednji element postavili na pravo mesto. Po vrsti bomo jemali elemente iz vhodnega zaporedja in vsakega posebej vstavili v novo nastajajoče urejeno zaporedje.\n",
    "\n",
    "Tako kot prej, lahko tudi to izvedemo na mestu. Na vsakem koraku imamo urejeno zaporedje na prvih $i-1$ mestih, v preostanku pa je še neurejeno vhodno zaporedje. V tem stanju bomo $i$-ti element vstavili na pravo mesto tako, da bomo konec urejenega zaporedja, ki je večji od $i$-tega elementa, zamaknili in naredili prostor zanj.\n",
    "\n",
    "Vzdržujemo invarianto, da je v $i$-tem koraku urejenih prvih $i$ elementov (kar ni nujno tudi prvih $i$ elementov končnega urejenega seznama). V vsakem koraku povečamo dolžino urejenega dela z vstavljanjem naslednjega elementa v seznamu."
   ]
  },
  {
   "cell_type": "code",
   "execution_count": 7,
   "id": "93cc1d48-ee52-4aa4-8658-bd4f894af8ac",
   "metadata": {},
   "outputs": [],
   "source": [
    "void insertion_sort(vector<int> &s) {\n",
    "    int n=s.size();\n",
    "    print(s);\n",
    "    for (int i=1; i<n; i++) {\n",
    "        int x=s[i];\n",
    "        int j=i-1;\n",
    "        while (j>=0 && s[j]>x) {\n",
    "            s[j+1]=s[j];\n",
    "            j--;\n",
    "        }\n",
    "        s[j+1]=x;\n",
    "        print(s);\n",
    "    }\n",
    "}"
   ]
  },
  {
   "cell_type": "code",
   "execution_count": 8,
   "id": "f857e8ed-e5de-4569-a25a-304f2376c85c",
   "metadata": {},
   "outputs": [
    {
     "name": "stdout",
     "output_type": "stream",
     "text": [
      "7 2 5 1 2 9 3 \n",
      "2 7 5 1 2 9 3 \n",
      "2 5 7 1 2 9 3 \n",
      "1 2 5 7 2 9 3 \n",
      "1 2 2 5 7 9 3 \n",
      "1 2 2 5 7 9 3 \n",
      "1 2 2 3 5 7 9 \n"
     ]
    }
   ],
   "source": [
    "vector<int> sez = {7,2,5,1,2,9,3};\n",
    "insertion_sort(sez);"
   ]
  },
  {
   "cell_type": "markdown",
   "id": "cfe2d0ca-943f-4429-a154-d47fa456ff34",
   "metadata": {},
   "source": [
    "Prostorska zahtevnost: $O(n)$\n",
    "\n",
    "Časovna zahtevnost (najslabša, povprečna, najboljša): $O(n^2)$, $O(n^2)$, $O(n)$"
   ]
  },
  {
   "cell_type": "markdown",
   "id": "e679d8e9-a373-4dae-8413-47fab523053c",
   "metadata": {},
   "source": [
    "### Mehurčno urejanje (*bubble sort*)\n",
    "\n",
    "V tem algoritmu bomo zaporedje uredili samo z zamenjavami sosednjih elementov, zato je včasih imenovano tudi *urejanje z zamenjavami*. Pravzaprav je ideja zelo preprosta: dokler obstaja kakšen par, ki je narobe urejen, ga najdemo in zamenjamo. Kljub temu bomo malo bolj sistematični. Pare sosednjih elementov bomo pregledovali po vrsti. Ko pridemo do konca seznama, pa se bomo vrnili nazaj na začetek. Če kdaj naredimo celoten prehod, ne da bi naredili kakšno zamenjavo, lahko zaključimo."
   ]
  },
  {
   "cell_type": "code",
   "execution_count": 9,
   "id": "1fde66c2-dcb4-4136-92dc-008fe56a9dba",
   "metadata": {},
   "outputs": [],
   "source": [
    "void bubble_sort(vector<int> &s) {\n",
    "    int n=s.size();\n",
    "    print(s);\n",
    "    bool change = true;\n",
    "    while (change) {\n",
    "        change = false;\n",
    "        for (int i=0;i+1<n;i++) {\n",
    "            if (s[i]>s[i+1]) {\n",
    "                swap(s[i],s[i+1]);\n",
    "                change = true;\n",
    "            }\n",
    "        }\n",
    "        print(s);\n",
    "    }\n",
    "}"
   ]
  },
  {
   "cell_type": "code",
   "execution_count": 14,
   "id": "991d654e-ee5f-4569-ae13-f45f942e2aab",
   "metadata": {},
   "outputs": [
    {
     "name": "stdout",
     "output_type": "stream",
     "text": [
      "7 2 5 1 2 9 3 \n",
      "2 5 1 2 7 3 9 \n",
      "2 1 2 5 3 7 9 \n",
      "1 2 2 3 5 7 9 \n",
      "1 2 2 3 5 7 9 \n"
     ]
    }
   ],
   "source": [
    "vector<int> sez = {7,2,5,1,2,9,3};\n",
    "bubble_sort(sez);"
   ]
  },
  {
   "cell_type": "markdown",
   "id": "3ef56454-82ba-4f3c-8a0a-5d1bffc8757a",
   "metadata": {},
   "source": [
    "Pravilnost tega postopka že ni več tako očitna, kot v prejšnjih primerih. Bomo res vedno prišli do urejenega seznama, ali se lahko algoritem zatakne v kakšnem neurejenem stanju? In koliko prehodov potrebuje v najslabšem primeru?\n",
    "\n",
    "Opazimo lahko, da algoritem v prvem prehodu z zamenjavami premakne na konec največji element, nato drugega največjega na predzadnje mesto itd. Med tem premikanjem pa poskrbi za še malo sprotnega urejanja preostalih elementov. Sedaj je jasno, da je algoritem pravilen in da potrebuje največ $n-1$ prehodov. Če jih naredimo $n$, pa tudi ne bo škode. Sedaj ga lahko še nekoliko skrajšamo, da je res enostaven."
   ]
  },
  {
   "cell_type": "code",
   "execution_count": 15,
   "id": "8011b0f2-6574-4de9-a67f-178a092f7aec",
   "metadata": {},
   "outputs": [],
   "source": [
    "void bubble_sort_n(vector<int> &s) {\n",
    "    int n=s.size();\n",
    "    for (int it=0;it<n;it++) {\n",
    "        for (int i=0;i+1<n;i++) {\n",
    "            if (s[i]>s[i+1]) swap(s[i],s[i+1]);\n",
    "        }\n",
    "    }\n",
    "    print(s);\n",
    "}"
   ]
  },
  {
   "cell_type": "code",
   "execution_count": 16,
   "id": "2d027b14-0c64-4ce6-a536-38ffcd53603f",
   "metadata": {},
   "outputs": [
    {
     "name": "stdout",
     "output_type": "stream",
     "text": [
      "1 2 2 3 5 7 9 \n"
     ]
    }
   ],
   "source": [
    "vector<int> sez = {7,2,5,1,2,9,3};\n",
    "bubble_sort_n(sez);"
   ]
  },
  {
   "cell_type": "markdown",
   "id": "1013a56f-4152-4e32-9e0d-ac2f7d55d28e",
   "metadata": {},
   "source": [
    "Oglejmo si še računske zahtevnosti prve različice algoritma, ki zaključi, čim je rezultat urejen.\n",
    "\n",
    "Prostorska zahtevnost: $O(n)$\n",
    "\n",
    "Časovna zahtevnost (najslabša, povprečna, najboljša): $O(n^2)$, $O(n^2)$, $O(n)$"
   ]
  },
  {
   "cell_type": "markdown",
   "id": "d508f67d-c35d-4cb3-8a8e-7f1f0c95e2e4",
   "metadata": {},
   "source": [
    "## Urejanje brez primerjav"
   ]
  },
  {
   "cell_type": "markdown",
   "id": "549c300f-7372-448b-bd33-263d0ce91594",
   "metadata": {},
   "source": [
    "### Urejanje s štetjem\n",
    "\n",
    "*counting sort*"
   ]
  },
  {
   "cell_type": "markdown",
   "id": "6a31767d-ff36-4dd1-85d4-ed2d2f16b962",
   "metadata": {},
   "source": [
    "### Urejanje s koši\n",
    "\n",
    "*bucket sort*"
   ]
  },
  {
   "cell_type": "markdown",
   "id": "7192878a-c34c-481a-ae1d-eff985fd9527",
   "metadata": {},
   "source": [
    "### Korensko urejanje\n",
    "\n",
    "*radix sort*"
   ]
  },
  {
   "cell_type": "markdown",
   "id": "abc80bd2-79cb-4b48-96b3-7c8598bbaa81",
   "metadata": {},
   "source": [
    "## Napredni urejevalni algoritmi\n",
    "\n",
    "S primerjavami"
   ]
  },
  {
   "cell_type": "markdown",
   "id": "2561d426-dee6-4cb8-8108-6f38ad102dc6",
   "metadata": {},
   "source": [
    "### Hitro urejanje\n",
    "\n",
    "*quick sort*"
   ]
  },
  {
   "cell_type": "markdown",
   "id": "f6632a08-f747-4581-83ef-a45fab631322",
   "metadata": {},
   "source": [
    "### Urejanje z zlivanjem\n",
    "\n",
    "*merge sort*"
   ]
  },
  {
   "cell_type": "markdown",
   "id": "026e71f2-4f80-47ee-a46f-8712acbb65f1",
   "metadata": {},
   "source": [
    "### Urejanje s kopico\n",
    "\n",
    "*heap sort*\n",
    "\n",
    "Izboljšava urejanja z izbiranjem (*selection sort*). Več o tem pri APS2."
   ]
  }
 ],
 "metadata": {
  "kernelspec": {
   "display_name": "C++17",
   "language": "C++17",
   "name": "xcpp17"
  },
  "language_info": {
   "codemirror_mode": "text/x-c++src",
   "file_extension": ".cpp",
   "mimetype": "text/x-c++src",
   "name": "c++",
   "version": "17"
  }
 },
 "nbformat": 4,
 "nbformat_minor": 5
}
